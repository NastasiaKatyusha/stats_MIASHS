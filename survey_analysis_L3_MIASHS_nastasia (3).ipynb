{
 "cells": [
  {
   "cell_type": "markdown",
   "metadata": {},
   "source": [
    "# Survey Analysis"
   ]
  },
  {
   "cell_type": "code",
   "execution_count": 20,
   "metadata": {},
   "outputs": [
    {
     "name": "stdout",
     "output_type": "stream",
     "text": [
      " Le volume dans le lecteur C s'appelle Windows\n",
      " Le num‚ro de s‚rie du volume est 62A0-77E4\n",
      "\n",
      " R‚pertoire de C:\\Users\\33644\\Folder 2801\n",
      "\n",
      "03/02/2023  11:01    <DIR>          .\n",
      "03/02/2023  11:01    <DIR>          ..\n",
      "03/02/2023  10:59    <DIR>          .ipynb_checkpoints\n",
      "28/01/2023  10:27            13ÿ126 Cat_Fact_API.ipynb\n",
      "28/01/2023  10:27             3ÿ306 ISS_API_Exo.ipynb\n",
      "03/02/2023  10:15             2ÿ557 stats_MIASHS_etu.csv\n",
      "03/02/2023  10:24             2ÿ557 stats_MIASHS_n.csv\n",
      "03/02/2023  10:50           145ÿ740 survey_analysis_L3_MIASHS_nastasia.ipynb\n",
      "03/02/2023  11:01           125ÿ313 Untitled-Copy1 (1).ipynb\n",
      "               6 fichier(s)          292ÿ599 octets\n",
      "               3 R‚p(s)   6ÿ080ÿ524ÿ288 octets libres\n"
     ]
    }
   ],
   "source": [
    "!dir"
   ]
  },
  {
   "cell_type": "code",
   "execution_count": 51,
   "metadata": {},
   "outputs": [],
   "source": [
    "import pandas as pd"
   ]
  },
  {
   "cell_type": "code",
   "execution_count": 7,
   "metadata": {},
   "outputs": [],
   "source": [
    "df = pd.read_csv(\"stats_MIASHS_etu.csv\"\n",
    "                 ,sep=\"|\"\n",
    "                 ,skiprows=3\n",
    "                 ,skipfooter=1\n",
    "                 ,engine='python'\n",
    "                 ,encoding='utf-8'\n",
    "                )"
   ]
  },
  {
   "cell_type": "code",
   "execution_count": null,
   "metadata": {},
   "outputs": [],
   "source": []
  },
  {
   "cell_type": "code",
   "execution_count": 8,
   "metadata": {},
   "outputs": [
    {
     "data": {
      "text/plain": [
       "(12, 12)"
      ]
     },
     "execution_count": 8,
     "metadata": {},
     "output_type": "execute_result"
    }
   ],
   "source": [
    "df.shape #propriété et pas méthode/fonction car pas de parenthèses"
   ]
  },
  {
   "cell_type": "code",
   "execution_count": 9,
   "metadata": {},
   "outputs": [
    {
     "data": {
      "text/html": [
       "<div>\n",
       "<style scoped>\n",
       "    .dataframe tbody tr th:only-of-type {\n",
       "        vertical-align: middle;\n",
       "    }\n",
       "\n",
       "    .dataframe tbody tr th {\n",
       "        vertical-align: top;\n",
       "    }\n",
       "\n",
       "    .dataframe thead th {\n",
       "        text-align: right;\n",
       "    }\n",
       "</style>\n",
       "<table border=\"1\" class=\"dataframe\">\n",
       "  <thead>\n",
       "    <tr style=\"text-align: right;\">\n",
       "      <th></th>\n",
       "      <th>Horodateur</th>\n",
       "      <th>How many people live in the city you grew up in? If you grew up in more than one city, choose the one you stayed in the longest.</th>\n",
       "      <th>How many years of higher education have you completed? (Do not take into account this current year).</th>\n",
       "      <th>What net monthly salary do you expect to get in 10 years from now?</th>\n",
       "      <th>How many siblings do you have, including yourself? Example: If you have 2 sisters and 1 brother, write 4.\\nInclude half-siblings - or your step-mother or step-father's children-  if you grew up with them.\\nIf you are an only child, enter 0.</th>\n",
       "      <th>What age group do you belong to?</th>\n",
       "      <th>What is your father's level of education?</th>\n",
       "      <th>What is your mother's level of education?</th>\n",
       "      <th>How tall are you?</th>\n",
       "      <th>What is your gender?</th>\n",
       "      <th>What are you three favourite pets? Use a comma to separate the different pets.</th>\n",
       "      <th>What is your favourite TV show?</th>\n",
       "    </tr>\n",
       "  </thead>\n",
       "  <tbody>\n",
       "    <tr>\n",
       "      <th>0</th>\n",
       "      <td>2023/01/24 12:54:33 PM UTC+1</td>\n",
       "      <td>105142</td>\n",
       "      <td>2</td>\n",
       "      <td>3500</td>\n",
       "      <td>6</td>\n",
       "      <td>20 - 21 years old</td>\n",
       "      <td>French baccalaureate</td>\n",
       "      <td>Licence</td>\n",
       "      <td>165</td>\n",
       "      <td>Woman</td>\n",
       "      <td>BIRD, SNAKE, CAT</td>\n",
       "      <td>le meilleur patissier</td>\n",
       "    </tr>\n",
       "    <tr>\n",
       "      <th>1</th>\n",
       "      <td>2023/01/24 12:57:59 PM UTC+1</td>\n",
       "      <td>40</td>\n",
       "      <td>2</td>\n",
       "      <td>4000</td>\n",
       "      <td>3</td>\n",
       "      <td>18 - 19 years old</td>\n",
       "      <td>Licence</td>\n",
       "      <td>Licence</td>\n",
       "      <td>175 cm</td>\n",
       "      <td>Woman</td>\n",
       "      <td>giraffe, cat, swan</td>\n",
       "      <td>brooklyn 99</td>\n",
       "    </tr>\n",
       "    <tr>\n",
       "      <th>2</th>\n",
       "      <td>2023/01/24 12:59:54 PM UTC+1</td>\n",
       "      <td>5000</td>\n",
       "      <td>2</td>\n",
       "      <td>10000</td>\n",
       "      <td>2</td>\n",
       "      <td>18 - 19 years old</td>\n",
       "      <td>Master or PhD</td>\n",
       "      <td>Master or PhD</td>\n",
       "      <td>171</td>\n",
       "      <td>Man</td>\n",
       "      <td>Cat, Komodo dragon, Crocodile</td>\n",
       "      <td>Survivor</td>\n",
       "    </tr>\n",
       "    <tr>\n",
       "      <th>3</th>\n",
       "      <td>2023/01/24 5:29:23 PM UTC+1</td>\n",
       "      <td>24000</td>\n",
       "      <td>2</td>\n",
       "      <td>4000</td>\n",
       "      <td>2</td>\n",
       "      <td>20 - 21 years old</td>\n",
       "      <td>Do not wish to answer / can't answer</td>\n",
       "      <td>Licence</td>\n",
       "      <td>170</td>\n",
       "      <td>Woman</td>\n",
       "      <td>dogs, parrot, hamster</td>\n",
       "      <td>Touche Pas A Mon Poste</td>\n",
       "    </tr>\n",
       "    <tr>\n",
       "      <th>4</th>\n",
       "      <td>2023/01/24 7:24:04 PM UTC+1</td>\n",
       "      <td>10000</td>\n",
       "      <td>2</td>\n",
       "      <td>4000</td>\n",
       "      <td>2</td>\n",
       "      <td>20 - 21 years old</td>\n",
       "      <td>Do not wish to answer / can't answer</td>\n",
       "      <td>Do not wish to answer / can't answer</td>\n",
       "      <td>1m60</td>\n",
       "      <td>Woman</td>\n",
       "      <td>dog,guinea pig,turtle</td>\n",
       "      <td>The Office</td>\n",
       "    </tr>\n",
       "  </tbody>\n",
       "</table>\n",
       "</div>"
      ],
      "text/plain": [
       "                     Horodateur  \\\n",
       "0  2023/01/24 12:54:33 PM UTC+1   \n",
       "1  2023/01/24 12:57:59 PM UTC+1   \n",
       "2  2023/01/24 12:59:54 PM UTC+1   \n",
       "3   2023/01/24 5:29:23 PM UTC+1   \n",
       "4   2023/01/24 7:24:04 PM UTC+1   \n",
       "\n",
       "   How many people live in the city you grew up in? If you grew up in more than one city, choose the one you stayed in the longest.  \\\n",
       "0                                             105142                                                                                  \n",
       "1                                                 40                                                                                  \n",
       "2                                               5000                                                                                  \n",
       "3                                              24000                                                                                  \n",
       "4                                              10000                                                                                  \n",
       "\n",
       "   How many years of higher education have you completed? (Do not take into account this current year).  \\\n",
       "0                                                  2                                                      \n",
       "1                                                  2                                                      \n",
       "2                                                  2                                                      \n",
       "3                                                  2                                                      \n",
       "4                                                  2                                                      \n",
       "\n",
       "   What net monthly salary do you expect to get in 10 years from now?  \\\n",
       "0                                               3500                    \n",
       "1                                               4000                    \n",
       "2                                              10000                    \n",
       "3                                               4000                    \n",
       "4                                               4000                    \n",
       "\n",
       "   How many siblings do you have, including yourself? Example: If you have 2 sisters and 1 brother, write 4.\\nInclude half-siblings - or your step-mother or step-father's children-  if you grew up with them.\\nIf you are an only child, enter 0.  \\\n",
       "0                                                  6                                                                                                                                                                                                  \n",
       "1                                                  3                                                                                                                                                                                                  \n",
       "2                                                  2                                                                                                                                                                                                  \n",
       "3                                                  2                                                                                                                                                                                                  \n",
       "4                                                  2                                                                                                                                                                                                  \n",
       "\n",
       "  What age group do you belong to? What is your father's level of education?  \\\n",
       "0                20 - 21 years old                      French baccalaureate   \n",
       "1                18 - 19 years old                                   Licence   \n",
       "2                18 - 19 years old                             Master or PhD   \n",
       "3                20 - 21 years old      Do not wish to answer / can't answer   \n",
       "4                20 - 21 years old      Do not wish to answer / can't answer   \n",
       "\n",
       "  What is your mother's level of education? How tall are you?  \\\n",
       "0                                   Licence               165   \n",
       "1                                   Licence            175 cm   \n",
       "2                             Master or PhD               171   \n",
       "3                                   Licence               170   \n",
       "4      Do not wish to answer / can't answer              1m60   \n",
       "\n",
       "  What is your gender?  \\\n",
       "0                Woman   \n",
       "1                Woman   \n",
       "2                  Man   \n",
       "3                Woman   \n",
       "4                Woman   \n",
       "\n",
       "  What are you three favourite pets? Use a comma to separate the different pets.  \\\n",
       "0                                   BIRD, SNAKE, CAT                               \n",
       "1                                 giraffe, cat, swan                               \n",
       "2                      Cat, Komodo dragon, Crocodile                               \n",
       "3                              dogs, parrot, hamster                               \n",
       "4                              dog,guinea pig,turtle                               \n",
       "\n",
       "  What is your favourite TV show?   \n",
       "0            le meilleur patissier  \n",
       "1                      brooklyn 99  \n",
       "2                         Survivor  \n",
       "3           Touche Pas A Mon Poste  \n",
       "4                       The Office  "
      ]
     },
     "execution_count": 9,
     "metadata": {},
     "output_type": "execute_result"
    }
   ],
   "source": [
    "df.head()"
   ]
  },
  {
   "cell_type": "code",
   "execution_count": 10,
   "metadata": {},
   "outputs": [
    {
     "name": "stdout",
     "output_type": "stream",
     "text": [
      "Horodateur\n",
      "How many people live in the city you grew up in? If you grew up in more than one city, choose the one you stayed in the longest.\n",
      "How many years of higher education have you completed? (Do not take into account this current year).\n",
      "What net monthly salary do you expect to get in 10 years from now?\n",
      "How many siblings do you have, including yourself? Example: If you have 2 sisters and 1 brother, write 4.\n",
      "Include half-siblings - or your step-mother or step-father's children-  if you grew up with them.\n",
      "If you are an only child, enter 0.\n",
      "What age group do you belong to?\n",
      "What is your father's level of education?\n",
      "What is your mother's level of education?\n",
      "How tall are you?\n",
      "What is your gender?\n",
      "What are you three favourite pets? Use a comma to separate the different pets.\n",
      "What is your favourite TV show? \n"
     ]
    }
   ],
   "source": [
    "for col in df.columns: print(col)"
   ]
  },
  {
   "cell_type": "code",
   "execution_count": 11,
   "metadata": {},
   "outputs": [],
   "source": [
    "cols = [ 'date_and_time'\n",
    "        ,'city'\n",
    "        ,'education'\n",
    "        ,'salary'\n",
    "        ,'siblings'\n",
    "        ,'age'\n",
    "        ,\"father_s_education\"\n",
    "        ,\"mother_s_education\"\n",
    "        ,'size'\n",
    "        ,'gender'\n",
    "        ,'pets'\n",
    "        ,'tv_show']"
   ]
  },
  {
   "cell_type": "code",
   "execution_count": 12,
   "metadata": {},
   "outputs": [],
   "source": [
    "df.columns = cols"
   ]
  },
  {
   "cell_type": "code",
   "execution_count": 13,
   "metadata": {},
   "outputs": [],
   "source": [
    "df = df.drop(columns='date_and_time')"
   ]
  },
  {
   "cell_type": "code",
   "execution_count": 14,
   "metadata": {},
   "outputs": [
    {
     "data": {
      "text/html": [
       "<div>\n",
       "<style scoped>\n",
       "    .dataframe tbody tr th:only-of-type {\n",
       "        vertical-align: middle;\n",
       "    }\n",
       "\n",
       "    .dataframe tbody tr th {\n",
       "        vertical-align: top;\n",
       "    }\n",
       "\n",
       "    .dataframe thead th {\n",
       "        text-align: right;\n",
       "    }\n",
       "</style>\n",
       "<table border=\"1\" class=\"dataframe\">\n",
       "  <thead>\n",
       "    <tr style=\"text-align: right;\">\n",
       "      <th></th>\n",
       "      <th>city</th>\n",
       "      <th>education</th>\n",
       "      <th>salary</th>\n",
       "      <th>siblings</th>\n",
       "      <th>age</th>\n",
       "      <th>father_s_education</th>\n",
       "      <th>mother_s_education</th>\n",
       "      <th>size</th>\n",
       "      <th>gender</th>\n",
       "      <th>pets</th>\n",
       "      <th>tv_show</th>\n",
       "    </tr>\n",
       "  </thead>\n",
       "  <tbody>\n",
       "    <tr>\n",
       "      <th>0</th>\n",
       "      <td>105142</td>\n",
       "      <td>2</td>\n",
       "      <td>3500</td>\n",
       "      <td>6</td>\n",
       "      <td>20 - 21 years old</td>\n",
       "      <td>French baccalaureate</td>\n",
       "      <td>Licence</td>\n",
       "      <td>165</td>\n",
       "      <td>Woman</td>\n",
       "      <td>BIRD, SNAKE, CAT</td>\n",
       "      <td>le meilleur patissier</td>\n",
       "    </tr>\n",
       "  </tbody>\n",
       "</table>\n",
       "</div>"
      ],
      "text/plain": [
       "     city  education  salary  siblings                age  \\\n",
       "0  105142          2    3500         6  20 - 21 years old   \n",
       "\n",
       "     father_s_education mother_s_education size gender              pets  \\\n",
       "0  French baccalaureate            Licence  165  Woman  BIRD, SNAKE, CAT   \n",
       "\n",
       "                 tv_show  \n",
       "0  le meilleur patissier  "
      ]
     },
     "execution_count": 14,
     "metadata": {},
     "output_type": "execute_result"
    }
   ],
   "source": [
    "df.head(1)"
   ]
  },
  {
   "cell_type": "code",
   "execution_count": 15,
   "metadata": {},
   "outputs": [
    {
     "data": {
      "text/html": [
       "<div>\n",
       "<style scoped>\n",
       "    .dataframe tbody tr th:only-of-type {\n",
       "        vertical-align: middle;\n",
       "    }\n",
       "\n",
       "    .dataframe tbody tr th {\n",
       "        vertical-align: top;\n",
       "    }\n",
       "\n",
       "    .dataframe thead th {\n",
       "        text-align: right;\n",
       "    }\n",
       "</style>\n",
       "<table border=\"1\" class=\"dataframe\">\n",
       "  <thead>\n",
       "    <tr style=\"text-align: right;\">\n",
       "      <th></th>\n",
       "      <th>city</th>\n",
       "      <th>education</th>\n",
       "      <th>salary</th>\n",
       "      <th>siblings</th>\n",
       "      <th>age</th>\n",
       "      <th>father_s_education</th>\n",
       "      <th>mother_s_education</th>\n",
       "      <th>size</th>\n",
       "      <th>gender</th>\n",
       "      <th>pets</th>\n",
       "      <th>tv_show</th>\n",
       "    </tr>\n",
       "  </thead>\n",
       "  <tbody>\n",
       "    <tr>\n",
       "      <th>0</th>\n",
       "      <td>105142</td>\n",
       "      <td>2</td>\n",
       "      <td>3500</td>\n",
       "      <td>6</td>\n",
       "      <td>20 - 21 years old</td>\n",
       "      <td>French baccalaureate</td>\n",
       "      <td>Licence</td>\n",
       "      <td>165</td>\n",
       "      <td>Woman</td>\n",
       "      <td>BIRD, SNAKE, CAT</td>\n",
       "      <td>le meilleur patissier</td>\n",
       "    </tr>\n",
       "    <tr>\n",
       "      <th>1</th>\n",
       "      <td>40</td>\n",
       "      <td>2</td>\n",
       "      <td>4000</td>\n",
       "      <td>3</td>\n",
       "      <td>18 - 19 years old</td>\n",
       "      <td>Licence</td>\n",
       "      <td>Licence</td>\n",
       "      <td>175 cm</td>\n",
       "      <td>Woman</td>\n",
       "      <td>giraffe, cat, swan</td>\n",
       "      <td>brooklyn 99</td>\n",
       "    </tr>\n",
       "    <tr>\n",
       "      <th>2</th>\n",
       "      <td>5000</td>\n",
       "      <td>2</td>\n",
       "      <td>10000</td>\n",
       "      <td>2</td>\n",
       "      <td>18 - 19 years old</td>\n",
       "      <td>Master or PhD</td>\n",
       "      <td>Master or PhD</td>\n",
       "      <td>171</td>\n",
       "      <td>Man</td>\n",
       "      <td>Cat, Komodo dragon, Crocodile</td>\n",
       "      <td>Survivor</td>\n",
       "    </tr>\n",
       "    <tr>\n",
       "      <th>3</th>\n",
       "      <td>24000</td>\n",
       "      <td>2</td>\n",
       "      <td>4000</td>\n",
       "      <td>2</td>\n",
       "      <td>20 - 21 years old</td>\n",
       "      <td>Do not wish to answer / can't answer</td>\n",
       "      <td>Licence</td>\n",
       "      <td>170</td>\n",
       "      <td>Woman</td>\n",
       "      <td>dogs, parrot, hamster</td>\n",
       "      <td>Touche Pas A Mon Poste</td>\n",
       "    </tr>\n",
       "    <tr>\n",
       "      <th>4</th>\n",
       "      <td>10000</td>\n",
       "      <td>2</td>\n",
       "      <td>4000</td>\n",
       "      <td>2</td>\n",
       "      <td>20 - 21 years old</td>\n",
       "      <td>Do not wish to answer / can't answer</td>\n",
       "      <td>Do not wish to answer / can't answer</td>\n",
       "      <td>1m60</td>\n",
       "      <td>Woman</td>\n",
       "      <td>dog,guinea pig,turtle</td>\n",
       "      <td>The Office</td>\n",
       "    </tr>\n",
       "  </tbody>\n",
       "</table>\n",
       "</div>"
      ],
      "text/plain": [
       "     city  education  salary  siblings                age  \\\n",
       "0  105142          2    3500         6  20 - 21 years old   \n",
       "1      40          2    4000         3  18 - 19 years old   \n",
       "2    5000          2   10000         2  18 - 19 years old   \n",
       "3   24000          2    4000         2  20 - 21 years old   \n",
       "4   10000          2    4000         2  20 - 21 years old   \n",
       "\n",
       "                     father_s_education                    mother_s_education  \\\n",
       "0                  French baccalaureate                               Licence   \n",
       "1                               Licence                               Licence   \n",
       "2                         Master or PhD                         Master or PhD   \n",
       "3  Do not wish to answer / can't answer                               Licence   \n",
       "4  Do not wish to answer / can't answer  Do not wish to answer / can't answer   \n",
       "\n",
       "     size gender                           pets                 tv_show  \n",
       "0     165  Woman               BIRD, SNAKE, CAT   le meilleur patissier  \n",
       "1  175 cm  Woman             giraffe, cat, swan             brooklyn 99  \n",
       "2     171    Man  Cat, Komodo dragon, Crocodile                Survivor  \n",
       "3     170  Woman          dogs, parrot, hamster  Touche Pas A Mon Poste  \n",
       "4    1m60  Woman          dog,guinea pig,turtle              The Office  "
      ]
     },
     "execution_count": 15,
     "metadata": {},
     "output_type": "execute_result"
    }
   ],
   "source": [
    "df.head()"
   ]
  },
  {
   "cell_type": "code",
   "execution_count": 16,
   "metadata": {},
   "outputs": [
    {
     "data": {
      "text/plain": [
       "city                   int64\n",
       "education              int64\n",
       "salary                 int64\n",
       "siblings               int64\n",
       "age                   object\n",
       "father_s_education    object\n",
       "mother_s_education    object\n",
       "size                  object\n",
       "gender                object\n",
       "pets                  object\n",
       "tv_show               object\n",
       "dtype: object"
      ]
     },
     "execution_count": 16,
     "metadata": {},
     "output_type": "execute_result"
    }
   ],
   "source": [
    "df.dtypes"
   ]
  },
  {
   "cell_type": "code",
   "execution_count": 17,
   "metadata": {},
   "outputs": [
    {
     "data": {
      "text/plain": [
       "(12, 11)"
      ]
     },
     "execution_count": 17,
     "metadata": {},
     "output_type": "execute_result"
    }
   ],
   "source": [
    "df.shape"
   ]
  },
  {
   "cell_type": "code",
   "execution_count": 18,
   "metadata": {},
   "outputs": [
    {
     "data": {
      "text/plain": [
       "12"
      ]
     },
     "execution_count": 18,
     "metadata": {},
     "output_type": "execute_result"
    }
   ],
   "source": [
    "df.shape[0]"
   ]
  },
  {
   "cell_type": "code",
   "execution_count": 19,
   "metadata": {},
   "outputs": [
    {
     "data": {
      "text/html": [
       "<div>\n",
       "<style scoped>\n",
       "    .dataframe tbody tr th:only-of-type {\n",
       "        vertical-align: middle;\n",
       "    }\n",
       "\n",
       "    .dataframe tbody tr th {\n",
       "        vertical-align: top;\n",
       "    }\n",
       "\n",
       "    .dataframe thead th {\n",
       "        text-align: right;\n",
       "    }\n",
       "</style>\n",
       "<table border=\"1\" class=\"dataframe\">\n",
       "  <thead>\n",
       "    <tr style=\"text-align: right;\">\n",
       "      <th></th>\n",
       "      <th>city</th>\n",
       "      <th>education</th>\n",
       "      <th>salary</th>\n",
       "      <th>siblings</th>\n",
       "      <th>age</th>\n",
       "      <th>father_s_education</th>\n",
       "      <th>mother_s_education</th>\n",
       "      <th>size</th>\n",
       "      <th>gender</th>\n",
       "      <th>pets</th>\n",
       "      <th>tv_show</th>\n",
       "    </tr>\n",
       "  </thead>\n",
       "  <tbody>\n",
       "    <tr>\n",
       "      <th>0</th>\n",
       "      <td>False</td>\n",
       "      <td>False</td>\n",
       "      <td>False</td>\n",
       "      <td>False</td>\n",
       "      <td>False</td>\n",
       "      <td>False</td>\n",
       "      <td>False</td>\n",
       "      <td>False</td>\n",
       "      <td>False</td>\n",
       "      <td>False</td>\n",
       "      <td>False</td>\n",
       "    </tr>\n",
       "    <tr>\n",
       "      <th>1</th>\n",
       "      <td>False</td>\n",
       "      <td>False</td>\n",
       "      <td>False</td>\n",
       "      <td>False</td>\n",
       "      <td>False</td>\n",
       "      <td>False</td>\n",
       "      <td>False</td>\n",
       "      <td>False</td>\n",
       "      <td>False</td>\n",
       "      <td>False</td>\n",
       "      <td>False</td>\n",
       "    </tr>\n",
       "    <tr>\n",
       "      <th>2</th>\n",
       "      <td>False</td>\n",
       "      <td>False</td>\n",
       "      <td>False</td>\n",
       "      <td>False</td>\n",
       "      <td>False</td>\n",
       "      <td>False</td>\n",
       "      <td>False</td>\n",
       "      <td>False</td>\n",
       "      <td>False</td>\n",
       "      <td>False</td>\n",
       "      <td>False</td>\n",
       "    </tr>\n",
       "    <tr>\n",
       "      <th>3</th>\n",
       "      <td>False</td>\n",
       "      <td>False</td>\n",
       "      <td>False</td>\n",
       "      <td>False</td>\n",
       "      <td>False</td>\n",
       "      <td>False</td>\n",
       "      <td>False</td>\n",
       "      <td>False</td>\n",
       "      <td>False</td>\n",
       "      <td>False</td>\n",
       "      <td>False</td>\n",
       "    </tr>\n",
       "    <tr>\n",
       "      <th>4</th>\n",
       "      <td>False</td>\n",
       "      <td>False</td>\n",
       "      <td>False</td>\n",
       "      <td>False</td>\n",
       "      <td>False</td>\n",
       "      <td>False</td>\n",
       "      <td>False</td>\n",
       "      <td>False</td>\n",
       "      <td>False</td>\n",
       "      <td>False</td>\n",
       "      <td>False</td>\n",
       "    </tr>\n",
       "    <tr>\n",
       "      <th>5</th>\n",
       "      <td>False</td>\n",
       "      <td>False</td>\n",
       "      <td>False</td>\n",
       "      <td>False</td>\n",
       "      <td>False</td>\n",
       "      <td>False</td>\n",
       "      <td>False</td>\n",
       "      <td>False</td>\n",
       "      <td>False</td>\n",
       "      <td>False</td>\n",
       "      <td>False</td>\n",
       "    </tr>\n",
       "    <tr>\n",
       "      <th>6</th>\n",
       "      <td>False</td>\n",
       "      <td>False</td>\n",
       "      <td>False</td>\n",
       "      <td>False</td>\n",
       "      <td>False</td>\n",
       "      <td>False</td>\n",
       "      <td>False</td>\n",
       "      <td>False</td>\n",
       "      <td>False</td>\n",
       "      <td>False</td>\n",
       "      <td>False</td>\n",
       "    </tr>\n",
       "    <tr>\n",
       "      <th>7</th>\n",
       "      <td>False</td>\n",
       "      <td>False</td>\n",
       "      <td>False</td>\n",
       "      <td>False</td>\n",
       "      <td>False</td>\n",
       "      <td>False</td>\n",
       "      <td>False</td>\n",
       "      <td>False</td>\n",
       "      <td>False</td>\n",
       "      <td>False</td>\n",
       "      <td>False</td>\n",
       "    </tr>\n",
       "    <tr>\n",
       "      <th>8</th>\n",
       "      <td>False</td>\n",
       "      <td>False</td>\n",
       "      <td>False</td>\n",
       "      <td>False</td>\n",
       "      <td>False</td>\n",
       "      <td>False</td>\n",
       "      <td>False</td>\n",
       "      <td>False</td>\n",
       "      <td>False</td>\n",
       "      <td>False</td>\n",
       "      <td>False</td>\n",
       "    </tr>\n",
       "    <tr>\n",
       "      <th>9</th>\n",
       "      <td>False</td>\n",
       "      <td>False</td>\n",
       "      <td>False</td>\n",
       "      <td>False</td>\n",
       "      <td>False</td>\n",
       "      <td>False</td>\n",
       "      <td>False</td>\n",
       "      <td>False</td>\n",
       "      <td>False</td>\n",
       "      <td>False</td>\n",
       "      <td>False</td>\n",
       "    </tr>\n",
       "    <tr>\n",
       "      <th>10</th>\n",
       "      <td>False</td>\n",
       "      <td>False</td>\n",
       "      <td>False</td>\n",
       "      <td>False</td>\n",
       "      <td>False</td>\n",
       "      <td>False</td>\n",
       "      <td>False</td>\n",
       "      <td>False</td>\n",
       "      <td>False</td>\n",
       "      <td>False</td>\n",
       "      <td>False</td>\n",
       "    </tr>\n",
       "    <tr>\n",
       "      <th>11</th>\n",
       "      <td>False</td>\n",
       "      <td>False</td>\n",
       "      <td>False</td>\n",
       "      <td>False</td>\n",
       "      <td>False</td>\n",
       "      <td>False</td>\n",
       "      <td>False</td>\n",
       "      <td>False</td>\n",
       "      <td>False</td>\n",
       "      <td>False</td>\n",
       "      <td>False</td>\n",
       "    </tr>\n",
       "  </tbody>\n",
       "</table>\n",
       "</div>"
      ],
      "text/plain": [
       "     city  education  salary  siblings    age  father_s_education  \\\n",
       "0   False      False   False     False  False               False   \n",
       "1   False      False   False     False  False               False   \n",
       "2   False      False   False     False  False               False   \n",
       "3   False      False   False     False  False               False   \n",
       "4   False      False   False     False  False               False   \n",
       "5   False      False   False     False  False               False   \n",
       "6   False      False   False     False  False               False   \n",
       "7   False      False   False     False  False               False   \n",
       "8   False      False   False     False  False               False   \n",
       "9   False      False   False     False  False               False   \n",
       "10  False      False   False     False  False               False   \n",
       "11  False      False   False     False  False               False   \n",
       "\n",
       "    mother_s_education   size  gender   pets  tv_show  \n",
       "0                False  False   False  False    False  \n",
       "1                False  False   False  False    False  \n",
       "2                False  False   False  False    False  \n",
       "3                False  False   False  False    False  \n",
       "4                False  False   False  False    False  \n",
       "5                False  False   False  False    False  \n",
       "6                False  False   False  False    False  \n",
       "7                False  False   False  False    False  \n",
       "8                False  False   False  False    False  \n",
       "9                False  False   False  False    False  \n",
       "10               False  False   False  False    False  \n",
       "11               False  False   False  False    False  "
      ]
     },
     "execution_count": 19,
     "metadata": {},
     "output_type": "execute_result"
    }
   ],
   "source": [
    "df.isna()"
   ]
  },
  {
   "cell_type": "code",
   "execution_count": 20,
   "metadata": {},
   "outputs": [
    {
     "data": {
      "text/plain": [
       "city                  0\n",
       "education             0\n",
       "salary                0\n",
       "siblings              0\n",
       "age                   0\n",
       "father_s_education    0\n",
       "mother_s_education    0\n",
       "size                  0\n",
       "gender                0\n",
       "pets                  0\n",
       "tv_show               0\n",
       "dtype: int64"
      ]
     },
     "execution_count": 20,
     "metadata": {},
     "output_type": "execute_result"
    }
   ],
   "source": [
    "df.isna().sum()"
   ]
  },
  {
   "cell_type": "markdown",
   "metadata": {},
   "source": [
    "Two concepts : DataFrame and Series.\n",
    "\n",
    "DataFrame are a collection of Series."
   ]
  },
  {
   "cell_type": "code",
   "execution_count": 21,
   "metadata": {},
   "outputs": [
    {
     "data": {
      "text/plain": [
       "0     105142\n",
       "1         40\n",
       "2       5000\n",
       "3      24000\n",
       "4      10000\n",
       "5      18203\n",
       "6     100000\n",
       "7     171057\n",
       "8       8000\n",
       "9       6000\n",
       "10    860000\n",
       "11     17000\n",
       "Name: city, dtype: int64"
      ]
     },
     "execution_count": 21,
     "metadata": {},
     "output_type": "execute_result"
    }
   ],
   "source": [
    "df['city']"
   ]
  },
  {
   "cell_type": "markdown",
   "metadata": {},
   "source": [
    "## City"
   ]
  },
  {
   "cell_type": "code",
   "execution_count": 22,
   "metadata": {},
   "outputs": [
    {
     "data": {
      "text/plain": [
       "<matplotlib.axes._subplots.AxesSubplot at 0x24e9f7bc6d0>"
      ]
     },
     "execution_count": 22,
     "metadata": {},
     "output_type": "execute_result"
    },
    {
     "data": {
      "image/png": "[encoded data removed]",
      "text/plain": [
       "<Figure size 432x288 with 1 Axes>"
      ]
     },
     "metadata": {
      "needs_background": "light"
     },
     "output_type": "display_data"
    }
   ],
   "source": [
    "df['city'].plot()"
   ]
  },
  {
   "cell_type": "code",
   "execution_count": 23,
   "metadata": {},
   "outputs": [
    {
     "data": {
      "text/plain": [
       "<matplotlib.axes._subplots.AxesSubplot at 0x24e9f8ed370>"
      ]
     },
     "execution_count": 23,
     "metadata": {},
     "output_type": "execute_result"
    },
    {
     "data": {
      "image/png": "[encoded data removed]",
      "text/plain": [
       "<Figure size 432x288 with 1 Axes>"
      ]
     },
     "metadata": {
      "needs_background": "light"
     },
     "output_type": "display_data"
    }
   ],
   "source": [
    "df['city'].plot(kind='kde')"
   ]
  },
  {
   "cell_type": "code",
   "execution_count": 30,
   "metadata": {},
   "outputs": [
    {
     "data": {
      "text/plain": [
       "<matplotlib.axes._subplots.AxesSubplot at 0x2056dc97ee0>"
      ]
     },
     "execution_count": 30,
     "metadata": {},
     "output_type": "execute_result"
    },
    {
     "data": {
      "image/png": "[encoded data removed]",
      "text/plain": [
       "<Figure size 432x288 with 1 Axes>"
      ]
     },
     "metadata": {
      "needs_background": "light"
     },
     "output_type": "display_data"
    }
   ],
   "source": [
    "df['city'].plot.hist() # hist because quantitative data"
   ]
  },
  {
   "cell_type": "code",
   "execution_count": 18,
   "metadata": {},
   "outputs": [
    {
     "data": {
      "image/png": "[encoded data removed]",
      "text/plain": [
       "<Figure size 640x480 with 1 Axes>"
      ]
     },
     "metadata": {},
     "output_type": "display_data"
    }
   ],
   "source": [
    "df['city'].plot.hist(bins=100);"
   ]
  },
  {
   "cell_type": "code",
   "execution_count": 19,
   "metadata": {},
   "outputs": [
    {
     "data": {
      "text/plain": [
       "1324442"
      ]
     },
     "execution_count": 19,
     "metadata": {},
     "output_type": "execute_result"
    }
   ],
   "source": [
    "df['city'].sum()"
   ]
  },
  {
   "cell_type": "code",
   "execution_count": 20,
   "metadata": {},
   "outputs": [
    {
     "data": {
      "text/plain": [
       "count        12.000000\n",
       "mean     110370.166667\n",
       "std      242179.085491\n",
       "min          40.000000\n",
       "25%        7500.000000\n",
       "50%       17601.500000\n",
       "75%      101285.500000\n",
       "max      860000.000000\n",
       "Name: city, dtype: float64"
      ]
     },
     "execution_count": 20,
     "metadata": {},
     "output_type": "execute_result"
    }
   ],
   "source": [
    "df['city'].describe()"
   ]
  },
  {
   "cell_type": "code",
   "execution_count": 31,
   "metadata": {},
   "outputs": [
    {
     "data": {
      "text/plain": [
       "17601.5"
      ]
     },
     "execution_count": 31,
     "metadata": {},
     "output_type": "execute_result"
    }
   ],
   "source": [
    "df['city'].median()"
   ]
  },
  {
   "cell_type": "code",
   "execution_count": 32,
   "metadata": {},
   "outputs": [
    {
     "data": {
      "text/plain": [
       "110370.16666666667"
      ]
     },
     "execution_count": 32,
     "metadata": {},
     "output_type": "execute_result"
    }
   ],
   "source": [
    "df['city'].mean()"
   ]
  },
  {
   "cell_type": "code",
   "execution_count": 24,
   "metadata": {},
   "outputs": [],
   "source": [
    "clean_df = df.loc[df['salary'] < 100000]"
   ]
  },
  {
   "cell_type": "code",
   "execution_count": 27,
   "metadata": {},
   "outputs": [
    {
     "data": {
      "text/html": [
       "<div>\n",
       "<style scoped>\n",
       "    .dataframe tbody tr th:only-of-type {\n",
       "        vertical-align: middle;\n",
       "    }\n",
       "\n",
       "    .dataframe tbody tr th {\n",
       "        vertical-align: top;\n",
       "    }\n",
       "\n",
       "    .dataframe thead tr th {\n",
       "        text-align: left;\n",
       "    }\n",
       "\n",
       "    .dataframe thead tr:last-of-type th {\n",
       "        text-align: right;\n",
       "    }\n",
       "</style>\n",
       "<table border=\"1\" class=\"dataframe\">\n",
       "  <thead>\n",
       "    <tr>\n",
       "      <th></th>\n",
       "      <th colspan=\"4\" halign=\"left\">salary</th>\n",
       "    </tr>\n",
       "    <tr>\n",
       "      <th></th>\n",
       "      <th>mean</th>\n",
       "      <th>min</th>\n",
       "      <th>max</th>\n",
       "      <th>median</th>\n",
       "    </tr>\n",
       "    <tr>\n",
       "      <th>gender</th>\n",
       "      <th></th>\n",
       "      <th></th>\n",
       "      <th></th>\n",
       "      <th></th>\n",
       "    </tr>\n",
       "  </thead>\n",
       "  <tbody>\n",
       "    <tr>\n",
       "      <th>Man</th>\n",
       "      <td>6000.0</td>\n",
       "      <td>4000</td>\n",
       "      <td>10000</td>\n",
       "      <td>4000</td>\n",
       "    </tr>\n",
       "    <tr>\n",
       "      <th>Woman</th>\n",
       "      <td>4062.5</td>\n",
       "      <td>3000</td>\n",
       "      <td>5000</td>\n",
       "      <td>4000</td>\n",
       "    </tr>\n",
       "  </tbody>\n",
       "</table>\n",
       "</div>"
      ],
      "text/plain": [
       "        salary                    \n",
       "          mean   min    max median\n",
       "gender                            \n",
       "Man     6000.0  4000  10000   4000\n",
       "Woman   4062.5  3000   5000   4000"
      ]
     },
     "execution_count": 27,
     "metadata": {},
     "output_type": "execute_result"
    }
   ],
   "source": [
    "clean_df.groupby(['gender']).agg({'salary' : ['mean','min','max','median']})"
   ]
  },
  {
   "cell_type": "markdown",
   "metadata": {},
   "source": [
    "## Education"
   ]
  },
  {
   "cell_type": "code",
   "execution_count": 26,
   "metadata": {},
   "outputs": [
    {
     "data": {
      "text/html": [
       "<div>\n",
       "<style scoped>\n",
       "    .dataframe tbody tr th:only-of-type {\n",
       "        vertical-align: middle;\n",
       "    }\n",
       "\n",
       "    .dataframe tbody tr th {\n",
       "        vertical-align: top;\n",
       "    }\n",
       "\n",
       "    .dataframe thead th {\n",
       "        text-align: right;\n",
       "    }\n",
       "</style>\n",
       "<table border=\"1\" class=\"dataframe\">\n",
       "  <thead>\n",
       "    <tr style=\"text-align: right;\">\n",
       "      <th></th>\n",
       "      <th>education</th>\n",
       "    </tr>\n",
       "  </thead>\n",
       "  <tbody>\n",
       "    <tr>\n",
       "      <th>0</th>\n",
       "      <td>2</td>\n",
       "    </tr>\n",
       "    <tr>\n",
       "      <th>1</th>\n",
       "      <td>2</td>\n",
       "    </tr>\n",
       "    <tr>\n",
       "      <th>2</th>\n",
       "      <td>2</td>\n",
       "    </tr>\n",
       "    <tr>\n",
       "      <th>3</th>\n",
       "      <td>2</td>\n",
       "    </tr>\n",
       "    <tr>\n",
       "      <th>4</th>\n",
       "      <td>2</td>\n",
       "    </tr>\n",
       "    <tr>\n",
       "      <th>5</th>\n",
       "      <td>3</td>\n",
       "    </tr>\n",
       "    <tr>\n",
       "      <th>6</th>\n",
       "      <td>2</td>\n",
       "    </tr>\n",
       "    <tr>\n",
       "      <th>7</th>\n",
       "      <td>2</td>\n",
       "    </tr>\n",
       "    <tr>\n",
       "      <th>8</th>\n",
       "      <td>3</td>\n",
       "    </tr>\n",
       "    <tr>\n",
       "      <th>9</th>\n",
       "      <td>3</td>\n",
       "    </tr>\n",
       "    <tr>\n",
       "      <th>10</th>\n",
       "      <td>4</td>\n",
       "    </tr>\n",
       "    <tr>\n",
       "      <th>11</th>\n",
       "      <td>3</td>\n",
       "    </tr>\n",
       "  </tbody>\n",
       "</table>\n",
       "</div>"
      ],
      "text/plain": [
       "    education\n",
       "0           2\n",
       "1           2\n",
       "2           2\n",
       "3           2\n",
       "4           2\n",
       "5           3\n",
       "6           2\n",
       "7           2\n",
       "8           3\n",
       "9           3\n",
       "10          4\n",
       "11          3"
      ]
     },
     "execution_count": 26,
     "metadata": {},
     "output_type": "execute_result"
    }
   ],
   "source": [
    "df[['education']]"
   ]
  },
  {
   "cell_type": "code",
   "execution_count": 22,
   "metadata": {},
   "outputs": [
    {
     "data": {
      "text/plain": [
       "count    12.0000\n",
       "mean      2.5000\n",
       "std       0.6742\n",
       "min       2.0000\n",
       "25%       2.0000\n",
       "50%       2.0000\n",
       "75%       3.0000\n",
       "max       4.0000\n",
       "Name: education, dtype: float64"
      ]
     },
     "execution_count": 22,
     "metadata": {},
     "output_type": "execute_result"
    }
   ],
   "source": [
    "df['education'].describe()"
   ]
  },
  {
   "cell_type": "code",
   "execution_count": 34,
   "metadata": {},
   "outputs": [
    {
     "data": {
      "image/png": "[encoded data removed]",
      "text/plain": [
       "<Figure size 432x288 with 1 Axes>"
      ]
     },
     "metadata": {
      "needs_background": "light"
     },
     "output_type": "display_data"
    }
   ],
   "source": [
    "df['education'].plot.hist();"
   ]
  },
  {
   "cell_type": "markdown",
   "metadata": {},
   "source": [
    "## Salary"
   ]
  },
  {
   "cell_type": "code",
   "execution_count": 24,
   "metadata": {},
   "outputs": [
    {
     "data": {
      "text/plain": [
       "47468169.67988261"
      ]
     },
     "execution_count": 24,
     "metadata": {},
     "output_type": "execute_result"
    }
   ],
   "source": [
    "# thumb rule for outliers : mean +/- 3 times the std\n",
    "df['salary'].mean() + 3 * df['salary'].std()"
   ]
  },
  {
   "cell_type": "code",
   "execution_count": 36,
   "metadata": {},
   "outputs": [],
   "source": [
    "# df without the outliers\n",
    "# we can set default value to 0 as we don't want any negative number\n",
    "salary_df = df.loc[df['salary'].between(0, df['salary'].mean() + 3 * df['salary'].std())]"
   ]
  },
  {
   "cell_type": "code",
   "execution_count": 37,
   "metadata": {},
   "outputs": [
    {
     "data": {
      "text/plain": [
       "count       11.000000\n",
       "mean      4590.909091\n",
       "std       1881.730345\n",
       "min       3000.000000\n",
       "25%       4000.000000\n",
       "50%       4000.000000\n",
       "75%       4500.000000\n",
       "max      10000.000000\n",
       "Name: salary, dtype: float64"
      ]
     },
     "execution_count": 37,
     "metadata": {},
     "output_type": "execute_result"
    }
   ],
   "source": [
    "salary_df['salary'].describe()"
   ]
  },
  {
   "cell_type": "code",
   "execution_count": 27,
   "metadata": {},
   "outputs": [
    {
     "data": {
      "text/html": [
       "<div>\n",
       "<style scoped>\n",
       "    .dataframe tbody tr th:only-of-type {\n",
       "        vertical-align: middle;\n",
       "    }\n",
       "\n",
       "    .dataframe tbody tr th {\n",
       "        vertical-align: top;\n",
       "    }\n",
       "\n",
       "    .dataframe thead th {\n",
       "        text-align: right;\n",
       "    }\n",
       "</style>\n",
       "<table border=\"1\" class=\"dataframe\">\n",
       "  <thead>\n",
       "    <tr style=\"text-align: right;\">\n",
       "      <th></th>\n",
       "      <th>city</th>\n",
       "      <th>education</th>\n",
       "      <th>salary</th>\n",
       "      <th>siblings</th>\n",
       "    </tr>\n",
       "    <tr>\n",
       "      <th>age</th>\n",
       "      <th></th>\n",
       "      <th></th>\n",
       "      <th></th>\n",
       "      <th></th>\n",
       "    </tr>\n",
       "  </thead>\n",
       "  <tbody>\n",
       "    <tr>\n",
       "      <th>18 - 19 years old</th>\n",
       "      <td>2520.000</td>\n",
       "      <td>2.000</td>\n",
       "      <td>7000.0</td>\n",
       "      <td>2.50</td>\n",
       "    </tr>\n",
       "    <tr>\n",
       "      <th>20 - 21 years old</th>\n",
       "      <td>141418.125</td>\n",
       "      <td>2.625</td>\n",
       "      <td>4062.5</td>\n",
       "      <td>3.25</td>\n",
       "    </tr>\n",
       "    <tr>\n",
       "      <th>23 - 24 years old</th>\n",
       "      <td>17000.000</td>\n",
       "      <td>3.000</td>\n",
       "      <td>4000.0</td>\n",
       "      <td>0.00</td>\n",
       "    </tr>\n",
       "  </tbody>\n",
       "</table>\n",
       "</div>"
      ],
      "text/plain": [
       "                         city  education  salary  siblings\n",
       "age                                                       \n",
       "18 - 19 years old    2520.000      2.000  7000.0      2.50\n",
       "20 - 21 years old  141418.125      2.625  4062.5      3.25\n",
       "23 - 24 years old   17000.000      3.000  4000.0      0.00"
      ]
     },
     "execution_count": 27,
     "metadata": {},
     "output_type": "execute_result"
    }
   ],
   "source": [
    "salary_df.groupby('age').agg('mean', numeric_only=True)"
   ]
  },
  {
   "cell_type": "code",
   "execution_count": 28,
   "metadata": {},
   "outputs": [
    {
     "data": {
      "text/html": [
       "<div>\n",
       "<style scoped>\n",
       "    .dataframe tbody tr th:only-of-type {\n",
       "        vertical-align: middle;\n",
       "    }\n",
       "\n",
       "    .dataframe tbody tr th {\n",
       "        vertical-align: top;\n",
       "    }\n",
       "\n",
       "    .dataframe thead tr th {\n",
       "        text-align: left;\n",
       "    }\n",
       "\n",
       "    .dataframe thead tr:last-of-type th {\n",
       "        text-align: right;\n",
       "    }\n",
       "</style>\n",
       "<table border=\"1\" class=\"dataframe\">\n",
       "  <thead>\n",
       "    <tr>\n",
       "      <th></th>\n",
       "      <th colspan=\"4\" halign=\"left\">salary</th>\n",
       "      <th colspan=\"4\" halign=\"left\">education</th>\n",
       "    </tr>\n",
       "    <tr>\n",
       "      <th></th>\n",
       "      <th>mean</th>\n",
       "      <th>median</th>\n",
       "      <th>max</th>\n",
       "      <th>min</th>\n",
       "      <th>mean</th>\n",
       "      <th>median</th>\n",
       "      <th>max</th>\n",
       "      <th>min</th>\n",
       "    </tr>\n",
       "    <tr>\n",
       "      <th>age</th>\n",
       "      <th></th>\n",
       "      <th></th>\n",
       "      <th></th>\n",
       "      <th></th>\n",
       "      <th></th>\n",
       "      <th></th>\n",
       "      <th></th>\n",
       "      <th></th>\n",
       "    </tr>\n",
       "  </thead>\n",
       "  <tbody>\n",
       "    <tr>\n",
       "      <th>18 - 19 years old</th>\n",
       "      <td>7000.0</td>\n",
       "      <td>7000.0</td>\n",
       "      <td>10000</td>\n",
       "      <td>4000</td>\n",
       "      <td>2.000</td>\n",
       "      <td>2.0</td>\n",
       "      <td>2</td>\n",
       "      <td>2</td>\n",
       "    </tr>\n",
       "    <tr>\n",
       "      <th>20 - 21 years old</th>\n",
       "      <td>4062.5</td>\n",
       "      <td>4000.0</td>\n",
       "      <td>5000</td>\n",
       "      <td>3000</td>\n",
       "      <td>2.625</td>\n",
       "      <td>2.5</td>\n",
       "      <td>4</td>\n",
       "      <td>2</td>\n",
       "    </tr>\n",
       "    <tr>\n",
       "      <th>22 - 23 years old</th>\n",
       "      <td>50000000.0</td>\n",
       "      <td>50000000.0</td>\n",
       "      <td>50000000</td>\n",
       "      <td>50000000</td>\n",
       "      <td>2.000</td>\n",
       "      <td>2.0</td>\n",
       "      <td>2</td>\n",
       "      <td>2</td>\n",
       "    </tr>\n",
       "    <tr>\n",
       "      <th>23 - 24 years old</th>\n",
       "      <td>4000.0</td>\n",
       "      <td>4000.0</td>\n",
       "      <td>4000</td>\n",
       "      <td>4000</td>\n",
       "      <td>3.000</td>\n",
       "      <td>3.0</td>\n",
       "      <td>3</td>\n",
       "      <td>3</td>\n",
       "    </tr>\n",
       "  </tbody>\n",
       "</table>\n",
       "</div>"
      ],
      "text/plain": [
       "                       salary                                 education  \\\n",
       "                         mean      median       max       min      mean   \n",
       "age                                                                       \n",
       "18 - 19 years old      7000.0      7000.0     10000      4000     2.000   \n",
       "20 - 21 years old      4062.5      4000.0      5000      3000     2.625   \n",
       "22 - 23 years old  50000000.0  50000000.0  50000000  50000000     2.000   \n",
       "23 - 24 years old      4000.0      4000.0      4000      4000     3.000   \n",
       "\n",
       "                                  \n",
       "                  median max min  \n",
       "age                               \n",
       "18 - 19 years old    2.0   2   2  \n",
       "20 - 21 years old    2.5   4   2  \n",
       "22 - 23 years old    2.0   2   2  \n",
       "23 - 24 years old    3.0   3   3  "
      ]
     },
     "execution_count": 28,
     "metadata": {},
     "output_type": "execute_result"
    }
   ],
   "source": [
    "df.groupby('age').agg({'salary' : ['mean','median', 'max', 'min'],\n",
    "                       'education': ['mean','median', 'max', 'min']})"
   ]
  },
  {
   "cell_type": "code",
   "execution_count": 38,
   "metadata": {},
   "outputs": [
    {
     "data": {
      "text/html": [
       "<div>\n",
       "<style scoped>\n",
       "    .dataframe tbody tr th:only-of-type {\n",
       "        vertical-align: middle;\n",
       "    }\n",
       "\n",
       "    .dataframe tbody tr th {\n",
       "        vertical-align: top;\n",
       "    }\n",
       "\n",
       "    .dataframe thead tr th {\n",
       "        text-align: left;\n",
       "    }\n",
       "\n",
       "    .dataframe thead tr:last-of-type th {\n",
       "        text-align: right;\n",
       "    }\n",
       "</style>\n",
       "<table border=\"1\" class=\"dataframe\">\n",
       "  <thead>\n",
       "    <tr>\n",
       "      <th></th>\n",
       "      <th></th>\n",
       "      <th colspan=\"3\" halign=\"left\">salary</th>\n",
       "      <th colspan=\"3\" halign=\"left\">education</th>\n",
       "      <th>gender</th>\n",
       "    </tr>\n",
       "    <tr>\n",
       "      <th></th>\n",
       "      <th></th>\n",
       "      <th>mean</th>\n",
       "      <th>median</th>\n",
       "      <th>count</th>\n",
       "      <th>mean</th>\n",
       "      <th>median</th>\n",
       "      <th>count</th>\n",
       "      <th>count</th>\n",
       "    </tr>\n",
       "    <tr>\n",
       "      <th>age</th>\n",
       "      <th>gender</th>\n",
       "      <th></th>\n",
       "      <th></th>\n",
       "      <th></th>\n",
       "      <th></th>\n",
       "      <th></th>\n",
       "      <th></th>\n",
       "      <th></th>\n",
       "    </tr>\n",
       "  </thead>\n",
       "  <tbody>\n",
       "    <tr>\n",
       "      <th rowspan=\"2\" valign=\"top\">18 - 19 years old</th>\n",
       "      <th>Man</th>\n",
       "      <td>10000.00</td>\n",
       "      <td>10000</td>\n",
       "      <td>1</td>\n",
       "      <td>2.00</td>\n",
       "      <td>2</td>\n",
       "      <td>1</td>\n",
       "      <td>1</td>\n",
       "    </tr>\n",
       "    <tr>\n",
       "      <th>Woman</th>\n",
       "      <td>4000.00</td>\n",
       "      <td>4000</td>\n",
       "      <td>1</td>\n",
       "      <td>2.00</td>\n",
       "      <td>2</td>\n",
       "      <td>1</td>\n",
       "      <td>1</td>\n",
       "    </tr>\n",
       "    <tr>\n",
       "      <th rowspan=\"2\" valign=\"top\">20 - 21 years old</th>\n",
       "      <th>Man</th>\n",
       "      <td>4000.00</td>\n",
       "      <td>4000</td>\n",
       "      <td>1</td>\n",
       "      <td>3.00</td>\n",
       "      <td>3</td>\n",
       "      <td>1</td>\n",
       "      <td>1</td>\n",
       "    </tr>\n",
       "    <tr>\n",
       "      <th>Woman</th>\n",
       "      <td>4071.43</td>\n",
       "      <td>4000</td>\n",
       "      <td>7</td>\n",
       "      <td>2.57</td>\n",
       "      <td>2</td>\n",
       "      <td>7</td>\n",
       "      <td>7</td>\n",
       "    </tr>\n",
       "    <tr>\n",
       "      <th>22 - 23 years old</th>\n",
       "      <th>Do not wish to answer</th>\n",
       "      <td>50000000.00</td>\n",
       "      <td>50000000</td>\n",
       "      <td>1</td>\n",
       "      <td>2.00</td>\n",
       "      <td>2</td>\n",
       "      <td>1</td>\n",
       "      <td>1</td>\n",
       "    </tr>\n",
       "    <tr>\n",
       "      <th>23 - 24 years old</th>\n",
       "      <th>Man</th>\n",
       "      <td>4000.00</td>\n",
       "      <td>4000</td>\n",
       "      <td>1</td>\n",
       "      <td>3.00</td>\n",
       "      <td>3</td>\n",
       "      <td>1</td>\n",
       "      <td>1</td>\n",
       "    </tr>\n",
       "  </tbody>\n",
       "</table>\n",
       "</div>"
      ],
      "text/plain": [
       "                                              salary                  \\\n",
       "                                                mean    median count   \n",
       "age               gender                                               \n",
       "18 - 19 years old Man                       10000.00     10000     1   \n",
       "                  Woman                      4000.00      4000     1   \n",
       "20 - 21 years old Man                        4000.00      4000     1   \n",
       "                  Woman                      4071.43      4000     7   \n",
       "22 - 23 years old Do not wish to answer  50000000.00  50000000     1   \n",
       "23 - 24 years old Man                        4000.00      4000     1   \n",
       "\n",
       "                                        education              gender  \n",
       "                                             mean median count  count  \n",
       "age               gender                                               \n",
       "18 - 19 years old Man                        2.00      2     1      1  \n",
       "                  Woman                      2.00      2     1      1  \n",
       "20 - 21 years old Man                        3.00      3     1      1  \n",
       "                  Woman                      2.57      2     7      7  \n",
       "22 - 23 years old Do not wish to answer      2.00      2     1      1  \n",
       "23 - 24 years old Man                        3.00      3     1      1  "
      ]
     },
     "execution_count": 38,
     "metadata": {},
     "output_type": "execute_result"
    }
   ],
   "source": [
    "df.groupby(['age', 'gender']).agg({'salary' : ['mean','median', 'count'],\n",
    "                                   'education': ['mean','median', 'count'],\n",
    "                                   'gender': 'count'},\n",
    "                                    ).round(2)"
   ]
  },
  {
   "cell_type": "markdown",
   "metadata": {},
   "source": [
    "## Siblings"
   ]
  },
  {
   "cell_type": "code",
   "execution_count": 30,
   "metadata": {},
   "outputs": [
    {
     "data": {
      "text/plain": [
       "0     6\n",
       "1     3\n",
       "2     2\n",
       "3     2\n",
       "4     2\n",
       "5     2\n",
       "6     5\n",
       "7     4\n",
       "8     3\n",
       "9     3\n",
       "10    3\n",
       "11    0\n",
       "Name: siblings, dtype: int64"
      ]
     },
     "execution_count": 30,
     "metadata": {},
     "output_type": "execute_result"
    }
   ],
   "source": [
    "df['siblings']"
   ]
  },
  {
   "cell_type": "code",
   "execution_count": 31,
   "metadata": {},
   "outputs": [],
   "source": [
    "def recode_siblings(nbr):\n",
    "    if nbr != 0: return nbr\n",
    "    else: return 1"
   ]
  },
  {
   "cell_type": "code",
   "execution_count": 32,
   "metadata": {},
   "outputs": [
    {
     "data": {
      "text/plain": [
       "0     6\n",
       "1     3\n",
       "2     2\n",
       "3     2\n",
       "4     2\n",
       "5     2\n",
       "6     5\n",
       "7     4\n",
       "8     3\n",
       "9     3\n",
       "10    3\n",
       "11    1\n",
       "Name: siblings, dtype: int64"
      ]
     },
     "execution_count": 32,
     "metadata": {},
     "output_type": "execute_result"
    }
   ],
   "source": [
    "df['siblings'].map(recode_siblings)"
   ]
  },
  {
   "cell_type": "code",
   "execution_count": 33,
   "metadata": {},
   "outputs": [
    {
     "data": {
      "text/plain": [
       "0     6\n",
       "1     3\n",
       "2     2\n",
       "3     2\n",
       "4     2\n",
       "5     2\n",
       "6     5\n",
       "7     4\n",
       "8     3\n",
       "9     3\n",
       "10    3\n",
       "11    1\n",
       "Name: siblings, dtype: int64"
      ]
     },
     "execution_count": 33,
     "metadata": {},
     "output_type": "execute_result"
    }
   ],
   "source": [
    "df['siblings'].map(lambda nbr: nbr if nbr != 0 else 1)"
   ]
  },
  {
   "cell_type": "code",
   "execution_count": 34,
   "metadata": {},
   "outputs": [],
   "source": [
    "df['siblings'] = df['siblings'].map(recode_siblings)"
   ]
  },
  {
   "cell_type": "markdown",
   "metadata": {},
   "source": [
    "## Age"
   ]
  },
  {
   "cell_type": "code",
   "execution_count": 35,
   "metadata": {},
   "outputs": [
    {
     "data": {
      "text/plain": [
       "20 - 21 years old    8\n",
       "18 - 19 years old    2\n",
       "22 - 23 years old    1\n",
       "23 - 24 years old    1\n",
       "Name: age, dtype: int64"
      ]
     },
     "execution_count": 35,
     "metadata": {},
     "output_type": "execute_result"
    }
   ],
   "source": [
    "df['age'].value_counts()"
   ]
  },
  {
   "cell_type": "code",
   "execution_count": 176,
   "metadata": {},
   "outputs": [
    {
     "data": {
      "text/plain": [
       "1    2\n",
       "2    1\n",
       "8    1\n",
       "Name: age, dtype: int64"
      ]
     },
     "execution_count": 176,
     "metadata": {},
     "output_type": "execute_result"
    }
   ],
   "source": [
    "df['age'].value_counts().value_counts()"
   ]
  },
  {
   "cell_type": "code",
   "execution_count": 36,
   "metadata": {},
   "outputs": [
    {
     "data": {
      "text/plain": [
       "<AxesSubplot: >"
      ]
     },
     "execution_count": 36,
     "metadata": {},
     "output_type": "execute_result"
    },
    {
     "data": {
      "image/png": "[encoded data removed]",
      "text/plain": [
       "<Figure size 640x480 with 1 Axes>"
      ]
     },
     "metadata": {},
     "output_type": "display_data"
    }
   ],
   "source": [
    "df['age'].value_counts().sort_index().plot.bar() # bar because categorical data"
   ]
  },
  {
   "cell_type": "markdown",
   "metadata": {},
   "source": [
    "## Parents level of education"
   ]
  },
  {
   "cell_type": "code",
   "execution_count": 37,
   "metadata": {},
   "outputs": [
    {
     "data": {
      "text/plain": [
       "0                     French baccalaureate\n",
       "1                                  Licence\n",
       "2                            Master or PhD\n",
       "3     Do not wish to answer / can't answer\n",
       "4     Do not wish to answer / can't answer\n",
       "5                            Master or PhD\n",
       "6                                  Licence\n",
       "7                               No diploma\n",
       "8                            Master or PhD\n",
       "9                                  Licence\n",
       "10    Do not wish to answer / can't answer\n",
       "11                           Master or PhD\n",
       "Name: father_s_education, dtype: object"
      ]
     },
     "execution_count": 37,
     "metadata": {},
     "output_type": "execute_result"
    }
   ],
   "source": [
    "df['father_s_education']"
   ]
  },
  {
   "cell_type": "code",
   "execution_count": 38,
   "metadata": {},
   "outputs": [
    {
     "data": {
      "text/plain": [
       "0                                  Licence\n",
       "1                                  Licence\n",
       "2                            Master or PhD\n",
       "3                                  Licence\n",
       "4     Do not wish to answer / can't answer\n",
       "5                            Master or PhD\n",
       "6                     French baccalaureate\n",
       "7                               No diploma\n",
       "8                            Master or PhD\n",
       "9                                  Licence\n",
       "10                                 Licence\n",
       "11                                 Licence\n",
       "Name: mother_s_education, dtype: object"
      ]
     },
     "execution_count": 38,
     "metadata": {},
     "output_type": "execute_result"
    }
   ],
   "source": [
    "df['mother_s_education']"
   ]
  },
  {
   "cell_type": "code",
   "execution_count": 39,
   "metadata": {},
   "outputs": [],
   "source": [
    "d = {\"Do not wish to answer / can't answer\": None, # pd.NA or np.nan or float('nan')\n",
    "     'No diploma' : 0,\n",
    "     'French baccalaureate': 1,\n",
    "     'Licence' : 2,\n",
    "     'Master or PhD': 3,} \n",
    "\n",
    "df['father_el'] = df['father_s_education'].map(d)\n",
    "df['mother_el'] = df['mother_s_education'].map(d)"
   ]
  },
  {
   "cell_type": "code",
   "execution_count": 40,
   "metadata": {},
   "outputs": [],
   "source": [
    "df['parents_el'] = df['father_el'] + df['mother_el']"
   ]
  },
  {
   "cell_type": "code",
   "execution_count": 41,
   "metadata": {},
   "outputs": [
    {
     "data": {
      "text/plain": [
       "0     3.0\n",
       "1     4.0\n",
       "2     6.0\n",
       "3     NaN\n",
       "4     NaN\n",
       "5     6.0\n",
       "6     3.0\n",
       "7     0.0\n",
       "8     6.0\n",
       "9     4.0\n",
       "10    NaN\n",
       "11    5.0\n",
       "Name: parents_el, dtype: float64"
      ]
     },
     "execution_count": 41,
     "metadata": {},
     "output_type": "execute_result"
    }
   ],
   "source": [
    "df['parents_el']"
   ]
  },
  {
   "cell_type": "markdown",
   "metadata": {},
   "source": [
    "### Size"
   ]
  },
  {
   "cell_type": "code",
   "execution_count": 39,
   "metadata": {},
   "outputs": [
    {
     "data": {
      "text/plain": [
       "0           165\n",
       "1        175 cm\n",
       "2           171\n",
       "3           170\n",
       "4          1m60\n",
       "5           167\n",
       "6          1,65\n",
       "7           160\n",
       "8          1,88\n",
       "9        161 cm\n",
       "10          155\n",
       "11    1, 78 cms\n",
       "Name: size, dtype: object"
      ]
     },
     "execution_count": 39,
     "metadata": {},
     "output_type": "execute_result"
    }
   ],
   "source": [
    "df['size']"
   ]
  },
  {
   "cell_type": "code",
   "execution_count": 29,
   "metadata": {},
   "outputs": [
    {
     "data": {
      "text/plain": [
       "178"
      ]
     },
     "execution_count": 29,
     "metadata": {},
     "output_type": "execute_result"
    }
   ],
   "source": [
    "t = \"1, 78 cms\"\n",
    "def recodeSize(t):\n",
    "    t2=\"\"\n",
    "    for car in t :\n",
    "        if car.isdigit() :\n",
    "            t2 += car \n",
    "    return(int(t2))     \n",
    "recodeSize(t)\n"
   ]
  },
  {
   "cell_type": "code",
   "execution_count": 30,
   "metadata": {},
   "outputs": [
    {
     "data": {
      "text/plain": [
       "165171170167160155"
      ]
     },
     "execution_count": 30,
     "metadata": {},
     "output_type": "execute_result"
    }
   ],
   "source": [
    "recodeSize(df['size'])"
   ]
  },
  {
   "cell_type": "code",
   "execution_count": 31,
   "metadata": {},
   "outputs": [
    {
     "data": {
      "text/plain": [
       "0     165\n",
       "1     175\n",
       "2     171\n",
       "3     170\n",
       "4     160\n",
       "5     167\n",
       "6     165\n",
       "7     160\n",
       "8     188\n",
       "9     161\n",
       "10    155\n",
       "11    178\n",
       "Name: size, dtype: int64"
      ]
     },
     "execution_count": 31,
     "metadata": {},
     "output_type": "execute_result"
    }
   ],
   "source": [
    "df['size'].map(recodeSize)"
   ]
  },
  {
   "cell_type": "code",
   "execution_count": 63,
   "metadata": {},
   "outputs": [
    {
     "data": {
      "text/plain": [
       "0     165\n",
       "1     175\n",
       "2     171\n",
       "3     170\n",
       "4     160\n",
       "5     167\n",
       "6     165\n",
       "7     160\n",
       "8     188\n",
       "9     161\n",
       "10    155\n",
       "11    178\n",
       "Name: size, dtype: int64"
      ]
     },
     "execution_count": 63,
     "metadata": {},
     "output_type": "execute_result"
    }
   ],
   "source": [
    "df['size']"
   ]
  },
  {
   "cell_type": "markdown",
   "metadata": {},
   "source": [
    "## Gender"
   ]
  },
  {
   "cell_type": "code",
   "execution_count": 64,
   "metadata": {},
   "outputs": [
    {
     "data": {
      "text/plain": [
       "0                     Woman\n",
       "1                     Woman\n",
       "2                       Man\n",
       "3                     Woman\n",
       "4                     Woman\n",
       "5                     Woman\n",
       "6                     Woman\n",
       "7     Do not wish to answer\n",
       "8                       Man\n",
       "9                     Woman\n",
       "10                    Woman\n",
       "11                      Man\n",
       "Name: gender, dtype: object"
      ]
     },
     "execution_count": 64,
     "metadata": {},
     "output_type": "execute_result"
    }
   ],
   "source": [
    "df['gender']"
   ]
  },
  {
   "cell_type": "code",
   "execution_count": 65,
   "metadata": {},
   "outputs": [
    {
     "data": {
      "text/plain": [
       "Woman                    8\n",
       "Man                      3\n",
       "Do not wish to answer    1\n",
       "Name: gender, dtype: int64"
      ]
     },
     "execution_count": 65,
     "metadata": {},
     "output_type": "execute_result"
    }
   ],
   "source": [
    "df['gender'].value_counts()"
   ]
  },
  {
   "cell_type": "code",
   "execution_count": 66,
   "metadata": {},
   "outputs": [
    {
     "data": {
      "text/plain": [
       "0     False\n",
       "1     False\n",
       "2      True\n",
       "3     False\n",
       "4     False\n",
       "5     False\n",
       "6     False\n",
       "7     False\n",
       "8      True\n",
       "9     False\n",
       "10    False\n",
       "11     True\n",
       "Name: gender, dtype: bool"
      ]
     },
     "execution_count": 66,
     "metadata": {},
     "output_type": "execute_result"
    }
   ],
   "source": [
    "df['gender'] == 'Man'"
   ]
  },
  {
   "cell_type": "code",
   "execution_count": 67,
   "metadata": {},
   "outputs": [
    {
     "data": {
      "text/html": [
       "<div>\n",
       "<style scoped>\n",
       "    .dataframe tbody tr th:only-of-type {\n",
       "        vertical-align: middle;\n",
       "    }\n",
       "\n",
       "    .dataframe tbody tr th {\n",
       "        vertical-align: top;\n",
       "    }\n",
       "\n",
       "    .dataframe thead th {\n",
       "        text-align: right;\n",
       "    }\n",
       "</style>\n",
       "<table border=\"1\" class=\"dataframe\">\n",
       "  <thead>\n",
       "    <tr style=\"text-align: right;\">\n",
       "      <th></th>\n",
       "      <th>city</th>\n",
       "      <th>education</th>\n",
       "      <th>salary</th>\n",
       "      <th>siblings</th>\n",
       "      <th>age</th>\n",
       "      <th>father_s_education</th>\n",
       "      <th>mother_s_education</th>\n",
       "      <th>size</th>\n",
       "      <th>gender</th>\n",
       "      <th>pets</th>\n",
       "      <th>tv_show</th>\n",
       "    </tr>\n",
       "  </thead>\n",
       "  <tbody>\n",
       "    <tr>\n",
       "      <th>2</th>\n",
       "      <td>5000</td>\n",
       "      <td>2</td>\n",
       "      <td>10000</td>\n",
       "      <td>2</td>\n",
       "      <td>18 - 19 years old</td>\n",
       "      <td>Master or PhD</td>\n",
       "      <td>Master or PhD</td>\n",
       "      <td>171</td>\n",
       "      <td>Man</td>\n",
       "      <td>Cat, Komodo dragon, Crocodile</td>\n",
       "      <td>Survivor</td>\n",
       "    </tr>\n",
       "    <tr>\n",
       "      <th>8</th>\n",
       "      <td>8000</td>\n",
       "      <td>3</td>\n",
       "      <td>4000</td>\n",
       "      <td>3</td>\n",
       "      <td>20 - 21 years old</td>\n",
       "      <td>Master or PhD</td>\n",
       "      <td>Master or PhD</td>\n",
       "      <td>188</td>\n",
       "      <td>Man</td>\n",
       "      <td>Lion, chat, kangourou</td>\n",
       "      <td>Obx</td>\n",
       "    </tr>\n",
       "    <tr>\n",
       "      <th>11</th>\n",
       "      <td>17000</td>\n",
       "      <td>3</td>\n",
       "      <td>4000</td>\n",
       "      <td>0</td>\n",
       "      <td>23 - 24 years old</td>\n",
       "      <td>Master or PhD</td>\n",
       "      <td>Licence</td>\n",
       "      <td>178</td>\n",
       "      <td>Man</td>\n",
       "      <td>cat, fish, turtle</td>\n",
       "      <td>The ofice</td>\n",
       "    </tr>\n",
       "  </tbody>\n",
       "</table>\n",
       "</div>"
      ],
      "text/plain": [
       "     city  education  salary  siblings                age father_s_education  \\\n",
       "2    5000          2   10000         2  18 - 19 years old      Master or PhD   \n",
       "8    8000          3    4000         3  20 - 21 years old      Master or PhD   \n",
       "11  17000          3    4000         0  23 - 24 years old      Master or PhD   \n",
       "\n",
       "   mother_s_education  size gender                           pets    tv_show  \n",
       "2       Master or PhD   171    Man  Cat, Komodo dragon, Crocodile   Survivor  \n",
       "8       Master or PhD   188    Man          Lion, chat, kangourou        Obx  \n",
       "11            Licence   178    Man              cat, fish, turtle  The ofice  "
      ]
     },
     "execution_count": 67,
     "metadata": {},
     "output_type": "execute_result"
    }
   ],
   "source": [
    "df.loc[df['gender'] == 'Man']"
   ]
  },
  {
   "cell_type": "code",
   "execution_count": 70,
   "metadata": {},
   "outputs": [
    {
     "data": {
      "text/plain": [
       "0      True\n",
       "1      True\n",
       "2     False\n",
       "3      True\n",
       "4      True\n",
       "5     False\n",
       "6     False\n",
       "7     False\n",
       "8      True\n",
       "9      True\n",
       "10     True\n",
       "11     True\n",
       "Name: salary, dtype: bool"
      ]
     },
     "execution_count": 70,
     "metadata": {},
     "output_type": "execute_result"
    }
   ],
   "source": [
    "df[\"salary\"] < 4500"
   ]
  },
  {
   "cell_type": "code",
   "execution_count": 77,
   "metadata": {},
   "outputs": [
    {
     "data": {
      "text/html": [
       "<div>\n",
       "<style scoped>\n",
       "    .dataframe tbody tr th:only-of-type {\n",
       "        vertical-align: middle;\n",
       "    }\n",
       "\n",
       "    .dataframe tbody tr th {\n",
       "        vertical-align: top;\n",
       "    }\n",
       "\n",
       "    .dataframe thead th {\n",
       "        text-align: right;\n",
       "    }\n",
       "</style>\n",
       "<table border=\"1\" class=\"dataframe\">\n",
       "  <thead>\n",
       "    <tr style=\"text-align: right;\">\n",
       "      <th></th>\n",
       "      <th>city</th>\n",
       "      <th>education</th>\n",
       "      <th>salary</th>\n",
       "      <th>siblings</th>\n",
       "      <th>age</th>\n",
       "      <th>father_s_education</th>\n",
       "      <th>mother_s_education</th>\n",
       "      <th>size</th>\n",
       "      <th>gender</th>\n",
       "      <th>pets</th>\n",
       "      <th>tv_show</th>\n",
       "    </tr>\n",
       "  </thead>\n",
       "  <tbody>\n",
       "    <tr>\n",
       "      <th>0</th>\n",
       "      <td>105142</td>\n",
       "      <td>2</td>\n",
       "      <td>3500</td>\n",
       "      <td>6</td>\n",
       "      <td>20 - 21 years old</td>\n",
       "      <td>French baccalaureate</td>\n",
       "      <td>Licence</td>\n",
       "      <td>165</td>\n",
       "      <td>Woman</td>\n",
       "      <td>BIRD, SNAKE, CAT</td>\n",
       "      <td>le meilleur patissier</td>\n",
       "    </tr>\n",
       "    <tr>\n",
       "      <th>1</th>\n",
       "      <td>40</td>\n",
       "      <td>2</td>\n",
       "      <td>4000</td>\n",
       "      <td>3</td>\n",
       "      <td>18 - 19 years old</td>\n",
       "      <td>Licence</td>\n",
       "      <td>Licence</td>\n",
       "      <td>175</td>\n",
       "      <td>Woman</td>\n",
       "      <td>giraffe, cat, swan</td>\n",
       "      <td>brooklyn 99</td>\n",
       "    </tr>\n",
       "    <tr>\n",
       "      <th>3</th>\n",
       "      <td>24000</td>\n",
       "      <td>2</td>\n",
       "      <td>4000</td>\n",
       "      <td>2</td>\n",
       "      <td>20 - 21 years old</td>\n",
       "      <td>Do not wish to answer / can't answer</td>\n",
       "      <td>Licence</td>\n",
       "      <td>170</td>\n",
       "      <td>Woman</td>\n",
       "      <td>dogs, parrot, hamster</td>\n",
       "      <td>Touche Pas A Mon Poste</td>\n",
       "    </tr>\n",
       "    <tr>\n",
       "      <th>4</th>\n",
       "      <td>10000</td>\n",
       "      <td>2</td>\n",
       "      <td>4000</td>\n",
       "      <td>2</td>\n",
       "      <td>20 - 21 years old</td>\n",
       "      <td>Do not wish to answer / can't answer</td>\n",
       "      <td>Do not wish to answer / can't answer</td>\n",
       "      <td>160</td>\n",
       "      <td>Woman</td>\n",
       "      <td>dog,guinea pig,turtle</td>\n",
       "      <td>The Office</td>\n",
       "    </tr>\n",
       "    <tr>\n",
       "      <th>9</th>\n",
       "      <td>6000</td>\n",
       "      <td>3</td>\n",
       "      <td>3000</td>\n",
       "      <td>3</td>\n",
       "      <td>20 - 21 years old</td>\n",
       "      <td>Licence</td>\n",
       "      <td>Licence</td>\n",
       "      <td>161</td>\n",
       "      <td>Woman</td>\n",
       "      <td>Cat, rabbit, dog</td>\n",
       "      <td>Malcom in the middle</td>\n",
       "    </tr>\n",
       "    <tr>\n",
       "      <th>10</th>\n",
       "      <td>860000</td>\n",
       "      <td>4</td>\n",
       "      <td>4000</td>\n",
       "      <td>3</td>\n",
       "      <td>20 - 21 years old</td>\n",
       "      <td>Do not wish to answer / can't answer</td>\n",
       "      <td>Licence</td>\n",
       "      <td>155</td>\n",
       "      <td>Woman</td>\n",
       "      <td>Cat</td>\n",
       "      <td>Le juste prix !</td>\n",
       "    </tr>\n",
       "  </tbody>\n",
       "</table>\n",
       "</div>"
      ],
      "text/plain": [
       "      city  education  salary  siblings                age  \\\n",
       "0   105142          2    3500         6  20 - 21 years old   \n",
       "1       40          2    4000         3  18 - 19 years old   \n",
       "3    24000          2    4000         2  20 - 21 years old   \n",
       "4    10000          2    4000         2  20 - 21 years old   \n",
       "9     6000          3    3000         3  20 - 21 years old   \n",
       "10  860000          4    4000         3  20 - 21 years old   \n",
       "\n",
       "                      father_s_education  \\\n",
       "0                   French baccalaureate   \n",
       "1                                Licence   \n",
       "3   Do not wish to answer / can't answer   \n",
       "4   Do not wish to answer / can't answer   \n",
       "9                                Licence   \n",
       "10  Do not wish to answer / can't answer   \n",
       "\n",
       "                      mother_s_education  size gender                   pets  \\\n",
       "0                                Licence   165  Woman       BIRD, SNAKE, CAT   \n",
       "1                                Licence   175  Woman     giraffe, cat, swan   \n",
       "3                                Licence   170  Woman  dogs, parrot, hamster   \n",
       "4   Do not wish to answer / can't answer   160  Woman  dog,guinea pig,turtle   \n",
       "9                                Licence   161  Woman       Cat, rabbit, dog   \n",
       "10                               Licence   155  Woman                    Cat   \n",
       "\n",
       "                   tv_show  \n",
       "0    le meilleur patissier  \n",
       "1              brooklyn 99  \n",
       "3   Touche Pas A Mon Poste  \n",
       "4               The Office  \n",
       "9     Malcom in the middle  \n",
       "10         Le juste prix !  "
      ]
     },
     "execution_count": 77,
     "metadata": {},
     "output_type": "execute_result"
    }
   ],
   "source": [
    "df.loc[(df['gender'] == 'Woman') & (df['salary'] < 4500)]"
   ]
  },
  {
   "cell_type": "code",
   "execution_count": 68,
   "metadata": {},
   "outputs": [
    {
     "data": {
      "text/html": [
       "<div>\n",
       "<style scoped>\n",
       "    .dataframe tbody tr th:only-of-type {\n",
       "        vertical-align: middle;\n",
       "    }\n",
       "\n",
       "    .dataframe tbody tr th {\n",
       "        vertical-align: top;\n",
       "    }\n",
       "\n",
       "    .dataframe thead th {\n",
       "        text-align: right;\n",
       "    }\n",
       "</style>\n",
       "<table border=\"1\" class=\"dataframe\">\n",
       "  <thead>\n",
       "    <tr style=\"text-align: right;\">\n",
       "      <th></th>\n",
       "      <th>city</th>\n",
       "      <th>education</th>\n",
       "      <th>salary</th>\n",
       "      <th>siblings</th>\n",
       "      <th>age</th>\n",
       "      <th>father_s_education</th>\n",
       "      <th>mother_s_education</th>\n",
       "      <th>size</th>\n",
       "      <th>gender</th>\n",
       "      <th>pets</th>\n",
       "      <th>tv_show</th>\n",
       "    </tr>\n",
       "  </thead>\n",
       "  <tbody>\n",
       "    <tr>\n",
       "      <th>0</th>\n",
       "      <td>105142</td>\n",
       "      <td>2</td>\n",
       "      <td>3500</td>\n",
       "      <td>6</td>\n",
       "      <td>20 - 21 years old</td>\n",
       "      <td>French baccalaureate</td>\n",
       "      <td>Licence</td>\n",
       "      <td>165</td>\n",
       "      <td>Woman</td>\n",
       "      <td>BIRD, SNAKE, CAT</td>\n",
       "      <td>le meilleur patissier</td>\n",
       "    </tr>\n",
       "    <tr>\n",
       "      <th>1</th>\n",
       "      <td>40</td>\n",
       "      <td>2</td>\n",
       "      <td>4000</td>\n",
       "      <td>3</td>\n",
       "      <td>18 - 19 years old</td>\n",
       "      <td>Licence</td>\n",
       "      <td>Licence</td>\n",
       "      <td>175</td>\n",
       "      <td>Woman</td>\n",
       "      <td>giraffe, cat, swan</td>\n",
       "      <td>brooklyn 99</td>\n",
       "    </tr>\n",
       "    <tr>\n",
       "      <th>3</th>\n",
       "      <td>24000</td>\n",
       "      <td>2</td>\n",
       "      <td>4000</td>\n",
       "      <td>2</td>\n",
       "      <td>20 - 21 years old</td>\n",
       "      <td>Do not wish to answer / can't answer</td>\n",
       "      <td>Licence</td>\n",
       "      <td>170</td>\n",
       "      <td>Woman</td>\n",
       "      <td>dogs, parrot, hamster</td>\n",
       "      <td>Touche Pas A Mon Poste</td>\n",
       "    </tr>\n",
       "    <tr>\n",
       "      <th>4</th>\n",
       "      <td>10000</td>\n",
       "      <td>2</td>\n",
       "      <td>4000</td>\n",
       "      <td>2</td>\n",
       "      <td>20 - 21 years old</td>\n",
       "      <td>Do not wish to answer / can't answer</td>\n",
       "      <td>Do not wish to answer / can't answer</td>\n",
       "      <td>160</td>\n",
       "      <td>Woman</td>\n",
       "      <td>dog,guinea pig,turtle</td>\n",
       "      <td>The Office</td>\n",
       "    </tr>\n",
       "    <tr>\n",
       "      <th>5</th>\n",
       "      <td>18203</td>\n",
       "      <td>3</td>\n",
       "      <td>5000</td>\n",
       "      <td>2</td>\n",
       "      <td>20 - 21 years old</td>\n",
       "      <td>Master or PhD</td>\n",
       "      <td>Master or PhD</td>\n",
       "      <td>167</td>\n",
       "      <td>Woman</td>\n",
       "      <td>Dog, sheep, goose</td>\n",
       "      <td>the Witcher</td>\n",
       "    </tr>\n",
       "    <tr>\n",
       "      <th>6</th>\n",
       "      <td>100000</td>\n",
       "      <td>2</td>\n",
       "      <td>5000</td>\n",
       "      <td>5</td>\n",
       "      <td>20 - 21 years old</td>\n",
       "      <td>Licence</td>\n",
       "      <td>French baccalaureate</td>\n",
       "      <td>165</td>\n",
       "      <td>Woman</td>\n",
       "      <td>Cat, rabbit, dog</td>\n",
       "      <td>Television news</td>\n",
       "    </tr>\n",
       "    <tr>\n",
       "      <th>9</th>\n",
       "      <td>6000</td>\n",
       "      <td>3</td>\n",
       "      <td>3000</td>\n",
       "      <td>3</td>\n",
       "      <td>20 - 21 years old</td>\n",
       "      <td>Licence</td>\n",
       "      <td>Licence</td>\n",
       "      <td>161</td>\n",
       "      <td>Woman</td>\n",
       "      <td>Cat, rabbit, dog</td>\n",
       "      <td>Malcom in the middle</td>\n",
       "    </tr>\n",
       "    <tr>\n",
       "      <th>10</th>\n",
       "      <td>860000</td>\n",
       "      <td>4</td>\n",
       "      <td>4000</td>\n",
       "      <td>3</td>\n",
       "      <td>20 - 21 years old</td>\n",
       "      <td>Do not wish to answer / can't answer</td>\n",
       "      <td>Licence</td>\n",
       "      <td>155</td>\n",
       "      <td>Woman</td>\n",
       "      <td>Cat</td>\n",
       "      <td>Le juste prix !</td>\n",
       "    </tr>\n",
       "  </tbody>\n",
       "</table>\n",
       "</div>"
      ],
      "text/plain": [
       "      city  education  salary  siblings                age  \\\n",
       "0   105142          2    3500         6  20 - 21 years old   \n",
       "1       40          2    4000         3  18 - 19 years old   \n",
       "3    24000          2    4000         2  20 - 21 years old   \n",
       "4    10000          2    4000         2  20 - 21 years old   \n",
       "5    18203          3    5000         2  20 - 21 years old   \n",
       "6   100000          2    5000         5  20 - 21 years old   \n",
       "9     6000          3    3000         3  20 - 21 years old   \n",
       "10  860000          4    4000         3  20 - 21 years old   \n",
       "\n",
       "                      father_s_education  \\\n",
       "0                   French baccalaureate   \n",
       "1                                Licence   \n",
       "3   Do not wish to answer / can't answer   \n",
       "4   Do not wish to answer / can't answer   \n",
       "5                          Master or PhD   \n",
       "6                                Licence   \n",
       "9                                Licence   \n",
       "10  Do not wish to answer / can't answer   \n",
       "\n",
       "                      mother_s_education  size gender                   pets  \\\n",
       "0                                Licence   165  Woman       BIRD, SNAKE, CAT   \n",
       "1                                Licence   175  Woman     giraffe, cat, swan   \n",
       "3                                Licence   170  Woman  dogs, parrot, hamster   \n",
       "4   Do not wish to answer / can't answer   160  Woman  dog,guinea pig,turtle   \n",
       "5                          Master or PhD   167  Woman      Dog, sheep, goose   \n",
       "6                   French baccalaureate   165  Woman       Cat, rabbit, dog   \n",
       "9                                Licence   161  Woman       Cat, rabbit, dog   \n",
       "10                               Licence   155  Woman                    Cat   \n",
       "\n",
       "                   tv_show  \n",
       "0    le meilleur patissier  \n",
       "1              brooklyn 99  \n",
       "3   Touche Pas A Mon Poste  \n",
       "4               The Office  \n",
       "5              the Witcher  \n",
       "6          Television news  \n",
       "9     Malcom in the middle  \n",
       "10         Le juste prix !  "
      ]
     },
     "execution_count": 68,
     "metadata": {},
     "output_type": "execute_result"
    }
   ],
   "source": [
    "df.loc[df['gender'] == 'Woman']"
   ]
  },
  {
   "cell_type": "markdown",
   "metadata": {},
   "source": [
    "## Pets\n"
   ]
  },
  {
   "cell_type": "code",
   "execution_count": 78,
   "metadata": {},
   "outputs": [
    {
     "data": {
      "text/plain": [
       "0                  BIRD, SNAKE, CAT\n",
       "1                giraffe, cat, swan\n",
       "2     Cat, Komodo dragon, Crocodile\n",
       "3             dogs, parrot, hamster\n",
       "4             dog,guinea pig,turtle\n",
       "5                 Dog, sheep, goose\n",
       "6                  Cat, rabbit, dog\n",
       "7                je ne les aime pas\n",
       "8             Lion, chat, kangourou\n",
       "9                  Cat, rabbit, dog\n",
       "10                              Cat\n",
       "11                cat, fish, turtle\n",
       "Name: pets, dtype: object"
      ]
     },
     "execution_count": 78,
     "metadata": {},
     "output_type": "execute_result"
    }
   ],
   "source": [
    "df['pets']"
   ]
  },
  {
   "cell_type": "code",
   "execution_count": 80,
   "metadata": {},
   "outputs": [
    {
     "data": {
      "text/plain": [
       "['Cat', ' Komodo dragon', ' Crocodile']"
      ]
     },
     "execution_count": 80,
     "metadata": {},
     "output_type": "execute_result"
    }
   ],
   "source": [
    "p = \"Cat, Komodo dragon, Crocodile\"\n",
    "p.split(',')"
   ]
  },
  {
   "cell_type": "code",
   "execution_count": 82,
   "metadata": {},
   "outputs": [
    {
     "data": {
      "text/html": [
       "<div>\n",
       "<style scoped>\n",
       "    .dataframe tbody tr th:only-of-type {\n",
       "        vertical-align: middle;\n",
       "    }\n",
       "\n",
       "    .dataframe tbody tr th {\n",
       "        vertical-align: top;\n",
       "    }\n",
       "\n",
       "    .dataframe thead th {\n",
       "        text-align: right;\n",
       "    }\n",
       "</style>\n",
       "<table border=\"1\" class=\"dataframe\">\n",
       "  <thead>\n",
       "    <tr style=\"text-align: right;\">\n",
       "      <th></th>\n",
       "      <th>0</th>\n",
       "      <th>1</th>\n",
       "      <th>2</th>\n",
       "    </tr>\n",
       "  </thead>\n",
       "  <tbody>\n",
       "    <tr>\n",
       "      <th>0</th>\n",
       "      <td>BIRD</td>\n",
       "      <td>SNAKE</td>\n",
       "      <td>CAT</td>\n",
       "    </tr>\n",
       "    <tr>\n",
       "      <th>1</th>\n",
       "      <td>giraffe</td>\n",
       "      <td>cat</td>\n",
       "      <td>swan</td>\n",
       "    </tr>\n",
       "    <tr>\n",
       "      <th>2</th>\n",
       "      <td>Cat</td>\n",
       "      <td>Komodo dragon</td>\n",
       "      <td>Crocodile</td>\n",
       "    </tr>\n",
       "    <tr>\n",
       "      <th>3</th>\n",
       "      <td>dogs</td>\n",
       "      <td>parrot</td>\n",
       "      <td>hamster</td>\n",
       "    </tr>\n",
       "    <tr>\n",
       "      <th>4</th>\n",
       "      <td>dog</td>\n",
       "      <td>guinea pig</td>\n",
       "      <td>turtle</td>\n",
       "    </tr>\n",
       "    <tr>\n",
       "      <th>5</th>\n",
       "      <td>Dog</td>\n",
       "      <td>sheep</td>\n",
       "      <td>goose</td>\n",
       "    </tr>\n",
       "    <tr>\n",
       "      <th>6</th>\n",
       "      <td>Cat</td>\n",
       "      <td>rabbit</td>\n",
       "      <td>dog</td>\n",
       "    </tr>\n",
       "    <tr>\n",
       "      <th>7</th>\n",
       "      <td>je ne les aime pas</td>\n",
       "      <td>None</td>\n",
       "      <td>None</td>\n",
       "    </tr>\n",
       "    <tr>\n",
       "      <th>8</th>\n",
       "      <td>Lion</td>\n",
       "      <td>chat</td>\n",
       "      <td>kangourou</td>\n",
       "    </tr>\n",
       "    <tr>\n",
       "      <th>9</th>\n",
       "      <td>Cat</td>\n",
       "      <td>rabbit</td>\n",
       "      <td>dog</td>\n",
       "    </tr>\n",
       "    <tr>\n",
       "      <th>10</th>\n",
       "      <td>Cat</td>\n",
       "      <td>None</td>\n",
       "      <td>None</td>\n",
       "    </tr>\n",
       "    <tr>\n",
       "      <th>11</th>\n",
       "      <td>cat</td>\n",
       "      <td>fish</td>\n",
       "      <td>turtle</td>\n",
       "    </tr>\n",
       "  </tbody>\n",
       "</table>\n",
       "</div>"
      ],
      "text/plain": [
       "                     0               1           2\n",
       "0                 BIRD           SNAKE         CAT\n",
       "1              giraffe             cat        swan\n",
       "2                  Cat   Komodo dragon   Crocodile\n",
       "3                 dogs          parrot     hamster\n",
       "4                  dog      guinea pig      turtle\n",
       "5                  Dog           sheep       goose\n",
       "6                  Cat          rabbit         dog\n",
       "7   je ne les aime pas            None        None\n",
       "8                 Lion            chat   kangourou\n",
       "9                  Cat          rabbit         dog\n",
       "10                 Cat            None        None\n",
       "11                 cat            fish      turtle"
      ]
     },
     "execution_count": 82,
     "metadata": {},
     "output_type": "execute_result"
    }
   ],
   "source": [
    "df['pets'].str.split(',' , expand=True)"
   ]
  },
  {
   "cell_type": "code",
   "execution_count": 83,
   "metadata": {},
   "outputs": [
    {
     "data": {
      "text/html": [
       "<div>\n",
       "<style scoped>\n",
       "    .dataframe tbody tr th:only-of-type {\n",
       "        vertical-align: middle;\n",
       "    }\n",
       "\n",
       "    .dataframe tbody tr th {\n",
       "        vertical-align: top;\n",
       "    }\n",
       "\n",
       "    .dataframe thead th {\n",
       "        text-align: right;\n",
       "    }\n",
       "</style>\n",
       "<table border=\"1\" class=\"dataframe\">\n",
       "  <thead>\n",
       "    <tr style=\"text-align: right;\">\n",
       "      <th></th>\n",
       "      <th>0</th>\n",
       "      <th>1</th>\n",
       "      <th>2</th>\n",
       "    </tr>\n",
       "  </thead>\n",
       "  <tbody>\n",
       "    <tr>\n",
       "      <th>0</th>\n",
       "      <td>bird</td>\n",
       "      <td>snake</td>\n",
       "      <td>cat</td>\n",
       "    </tr>\n",
       "    <tr>\n",
       "      <th>1</th>\n",
       "      <td>giraffe</td>\n",
       "      <td>cat</td>\n",
       "      <td>swan</td>\n",
       "    </tr>\n",
       "    <tr>\n",
       "      <th>2</th>\n",
       "      <td>cat</td>\n",
       "      <td>komodo dragon</td>\n",
       "      <td>crocodile</td>\n",
       "    </tr>\n",
       "    <tr>\n",
       "      <th>3</th>\n",
       "      <td>dogs</td>\n",
       "      <td>parrot</td>\n",
       "      <td>hamster</td>\n",
       "    </tr>\n",
       "    <tr>\n",
       "      <th>4</th>\n",
       "      <td>dog</td>\n",
       "      <td>guinea pig</td>\n",
       "      <td>turtle</td>\n",
       "    </tr>\n",
       "    <tr>\n",
       "      <th>5</th>\n",
       "      <td>dog</td>\n",
       "      <td>sheep</td>\n",
       "      <td>goose</td>\n",
       "    </tr>\n",
       "    <tr>\n",
       "      <th>6</th>\n",
       "      <td>cat</td>\n",
       "      <td>rabbit</td>\n",
       "      <td>dog</td>\n",
       "    </tr>\n",
       "    <tr>\n",
       "      <th>7</th>\n",
       "      <td>je ne les aime pas</td>\n",
       "      <td>None</td>\n",
       "      <td>None</td>\n",
       "    </tr>\n",
       "    <tr>\n",
       "      <th>8</th>\n",
       "      <td>lion</td>\n",
       "      <td>chat</td>\n",
       "      <td>kangourou</td>\n",
       "    </tr>\n",
       "    <tr>\n",
       "      <th>9</th>\n",
       "      <td>cat</td>\n",
       "      <td>rabbit</td>\n",
       "      <td>dog</td>\n",
       "    </tr>\n",
       "    <tr>\n",
       "      <th>10</th>\n",
       "      <td>cat</td>\n",
       "      <td>None</td>\n",
       "      <td>None</td>\n",
       "    </tr>\n",
       "    <tr>\n",
       "      <th>11</th>\n",
       "      <td>cat</td>\n",
       "      <td>fish</td>\n",
       "      <td>turtle</td>\n",
       "    </tr>\n",
       "  </tbody>\n",
       "</table>\n",
       "</div>"
      ],
      "text/plain": [
       "                     0               1           2\n",
       "0                 bird           snake         cat\n",
       "1              giraffe             cat        swan\n",
       "2                  cat   komodo dragon   crocodile\n",
       "3                 dogs          parrot     hamster\n",
       "4                  dog      guinea pig      turtle\n",
       "5                  dog           sheep       goose\n",
       "6                  cat          rabbit         dog\n",
       "7   je ne les aime pas            None        None\n",
       "8                 lion            chat   kangourou\n",
       "9                  cat          rabbit         dog\n",
       "10                 cat            None        None\n",
       "11                 cat            fish      turtle"
      ]
     },
     "execution_count": 83,
     "metadata": {},
     "output_type": "execute_result"
    }
   ],
   "source": [
    "df['pets'].str.lower().str.split(',' , expand=True)"
   ]
  },
  {
   "cell_type": "code",
   "execution_count": 32,
   "metadata": {},
   "outputs": [],
   "source": [
    "df[['pet1', 'pet2', 'pet3']] = df['pets'].str.lower().str.split(',' , expand=True)"
   ]
  },
  {
   "cell_type": "code",
   "execution_count": 85,
   "metadata": {},
   "outputs": [
    {
     "data": {
      "text/html": [
       "<div>\n",
       "<style scoped>\n",
       "    .dataframe tbody tr th:only-of-type {\n",
       "        vertical-align: middle;\n",
       "    }\n",
       "\n",
       "    .dataframe tbody tr th {\n",
       "        vertical-align: top;\n",
       "    }\n",
       "\n",
       "    .dataframe thead th {\n",
       "        text-align: right;\n",
       "    }\n",
       "</style>\n",
       "<table border=\"1\" class=\"dataframe\">\n",
       "  <thead>\n",
       "    <tr style=\"text-align: right;\">\n",
       "      <th></th>\n",
       "      <th>city</th>\n",
       "      <th>education</th>\n",
       "      <th>salary</th>\n",
       "      <th>siblings</th>\n",
       "      <th>age</th>\n",
       "      <th>father_s_education</th>\n",
       "      <th>mother_s_education</th>\n",
       "      <th>size</th>\n",
       "      <th>gender</th>\n",
       "      <th>pets</th>\n",
       "      <th>tv_show</th>\n",
       "      <th>pet1</th>\n",
       "      <th>pet2</th>\n",
       "      <th>pet3</th>\n",
       "    </tr>\n",
       "  </thead>\n",
       "  <tbody>\n",
       "    <tr>\n",
       "      <th>0</th>\n",
       "      <td>105142</td>\n",
       "      <td>2</td>\n",
       "      <td>3500</td>\n",
       "      <td>6</td>\n",
       "      <td>20 - 21 years old</td>\n",
       "      <td>French baccalaureate</td>\n",
       "      <td>Licence</td>\n",
       "      <td>165</td>\n",
       "      <td>Woman</td>\n",
       "      <td>BIRD, SNAKE, CAT</td>\n",
       "      <td>le meilleur patissier</td>\n",
       "      <td>bird</td>\n",
       "      <td>snake</td>\n",
       "      <td>cat</td>\n",
       "    </tr>\n",
       "  </tbody>\n",
       "</table>\n",
       "</div>"
      ],
      "text/plain": [
       "     city  education  salary  siblings                age  \\\n",
       "0  105142          2    3500         6  20 - 21 years old   \n",
       "\n",
       "     father_s_education mother_s_education  size gender              pets  \\\n",
       "0  French baccalaureate            Licence   165  Woman  BIRD, SNAKE, CAT   \n",
       "\n",
       "                 tv_show  pet1    pet2  pet3  \n",
       "0  le meilleur patissier  bird   snake   cat  "
      ]
     },
     "execution_count": 85,
     "metadata": {},
     "output_type": "execute_result"
    }
   ],
   "source": [
    "df.head(1)"
   ]
  },
  {
   "cell_type": "markdown",
   "metadata": {},
   "source": [
    "### Correlation\n"
   ]
  },
  {
   "cell_type": "code",
   "execution_count": 97,
   "metadata": {},
   "outputs": [],
   "source": [
    "def recode_gender(s) :\n",
    "        if s == 'Man':return 0\n",
    "        elif s == 'Woman':return 1\n",
    "        else :return None    "
   ]
  },
  {
   "cell_type": "code",
   "execution_count": 98,
   "metadata": {},
   "outputs": [
    {
     "data": {
      "text/plain": [
       "0     1.0\n",
       "1     1.0\n",
       "2     0.0\n",
       "3     1.0\n",
       "4     1.0\n",
       "5     1.0\n",
       "6     1.0\n",
       "7     NaN\n",
       "8     0.0\n",
       "9     1.0\n",
       "10    1.0\n",
       "11    0.0\n",
       "Name: gender, dtype: float64"
      ]
     },
     "execution_count": 98,
     "metadata": {},
     "output_type": "execute_result"
    }
   ],
   "source": [
    "df['gender'].map(recode_gender)"
   ]
  },
  {
   "cell_type": "code",
   "execution_count": 99,
   "metadata": {},
   "outputs": [],
   "source": [
    "df['gender_num'] = df['gender'].map(recode_gender)"
   ]
  },
  {
   "cell_type": "code",
   "execution_count": 101,
   "metadata": {},
   "outputs": [
    {
     "data": {
      "text/plain": [
       "0         3500\n",
       "1         4000\n",
       "2        10000\n",
       "3         4000\n",
       "4         4000\n",
       "5         5000\n",
       "6         5000\n",
       "7     50000000\n",
       "8         4000\n",
       "9         3000\n",
       "10        4000\n",
       "11        4000\n",
       "Name: salary, dtype: int64"
      ]
     },
     "execution_count": 101,
     "metadata": {},
     "output_type": "execute_result"
    }
   ],
   "source": [
    "df['salary'] \n",
    "#on veut supprimer les valeurs aberrantes, filter le df pour ne pas prendre les valeurs égales à la moyenne + 3 fois l'écart type"
   ]
  },
  {
   "cell_type": "code",
   "execution_count": 102,
   "metadata": {},
   "outputs": [
    {
     "data": {
      "text/plain": [
       "4170875.0"
      ]
     },
     "execution_count": 102,
     "metadata": {},
     "output_type": "execute_result"
    }
   ],
   "source": [
    "df['salary'].mean()"
   ]
  },
  {
   "cell_type": "code",
   "execution_count": 103,
   "metadata": {},
   "outputs": [
    {
     "data": {
      "text/plain": [
       "14432431.55996087"
      ]
     },
     "execution_count": 103,
     "metadata": {},
     "output_type": "execute_result"
    }
   ],
   "source": [
    "df['salary'].std()"
   ]
  },
  {
   "cell_type": "code",
   "execution_count": 107,
   "metadata": {},
   "outputs": [
    {
     "data": {
      "text/plain": [
       "0      True\n",
       "1      True\n",
       "2      True\n",
       "3      True\n",
       "4      True\n",
       "5      True\n",
       "6      True\n",
       "7     False\n",
       "8      True\n",
       "9      True\n",
       "10     True\n",
       "11     True\n",
       "Name: salary, dtype: bool"
      ]
     },
     "execution_count": 107,
     "metadata": {},
     "output_type": "execute_result"
    }
   ],
   "source": [
    "df['salary'] < (df['salary'].mean() + 3 * df['salary'].std() )"
   ]
  },
  {
   "cell_type": "code",
   "execution_count": 108,
   "metadata": {},
   "outputs": [
    {
     "data": {
      "text/html": [
       "<div>\n",
       "<style scoped>\n",
       "    .dataframe tbody tr th:only-of-type {\n",
       "        vertical-align: middle;\n",
       "    }\n",
       "\n",
       "    .dataframe tbody tr th {\n",
       "        vertical-align: top;\n",
       "    }\n",
       "\n",
       "    .dataframe thead th {\n",
       "        text-align: right;\n",
       "    }\n",
       "</style>\n",
       "<table border=\"1\" class=\"dataframe\">\n",
       "  <thead>\n",
       "    <tr style=\"text-align: right;\">\n",
       "      <th></th>\n",
       "      <th>city</th>\n",
       "      <th>education</th>\n",
       "      <th>salary</th>\n",
       "      <th>siblings</th>\n",
       "      <th>age</th>\n",
       "      <th>father_s_education</th>\n",
       "      <th>mother_s_education</th>\n",
       "      <th>size</th>\n",
       "      <th>gender</th>\n",
       "      <th>pets</th>\n",
       "      <th>tv_show</th>\n",
       "      <th>pet1</th>\n",
       "      <th>pet2</th>\n",
       "      <th>pet3</th>\n",
       "      <th>gender_num</th>\n",
       "    </tr>\n",
       "  </thead>\n",
       "  <tbody>\n",
       "    <tr>\n",
       "      <th>0</th>\n",
       "      <td>105142</td>\n",
       "      <td>2</td>\n",
       "      <td>3500</td>\n",
       "      <td>6</td>\n",
       "      <td>20 - 21 years old</td>\n",
       "      <td>French baccalaureate</td>\n",
       "      <td>Licence</td>\n",
       "      <td>165</td>\n",
       "      <td>Woman</td>\n",
       "      <td>BIRD, SNAKE, CAT</td>\n",
       "      <td>le meilleur patissier</td>\n",
       "      <td>bird</td>\n",
       "      <td>snake</td>\n",
       "      <td>cat</td>\n",
       "      <td>1.0</td>\n",
       "    </tr>\n",
       "    <tr>\n",
       "      <th>1</th>\n",
       "      <td>40</td>\n",
       "      <td>2</td>\n",
       "      <td>4000</td>\n",
       "      <td>3</td>\n",
       "      <td>18 - 19 years old</td>\n",
       "      <td>Licence</td>\n",
       "      <td>Licence</td>\n",
       "      <td>175</td>\n",
       "      <td>Woman</td>\n",
       "      <td>giraffe, cat, swan</td>\n",
       "      <td>brooklyn 99</td>\n",
       "      <td>giraffe</td>\n",
       "      <td>cat</td>\n",
       "      <td>swan</td>\n",
       "      <td>1.0</td>\n",
       "    </tr>\n",
       "    <tr>\n",
       "      <th>2</th>\n",
       "      <td>5000</td>\n",
       "      <td>2</td>\n",
       "      <td>10000</td>\n",
       "      <td>2</td>\n",
       "      <td>18 - 19 years old</td>\n",
       "      <td>Master or PhD</td>\n",
       "      <td>Master or PhD</td>\n",
       "      <td>171</td>\n",
       "      <td>Man</td>\n",
       "      <td>Cat, Komodo dragon, Crocodile</td>\n",
       "      <td>Survivor</td>\n",
       "      <td>cat</td>\n",
       "      <td>komodo dragon</td>\n",
       "      <td>crocodile</td>\n",
       "      <td>0.0</td>\n",
       "    </tr>\n",
       "    <tr>\n",
       "      <th>3</th>\n",
       "      <td>24000</td>\n",
       "      <td>2</td>\n",
       "      <td>4000</td>\n",
       "      <td>2</td>\n",
       "      <td>20 - 21 years old</td>\n",
       "      <td>Do not wish to answer / can't answer</td>\n",
       "      <td>Licence</td>\n",
       "      <td>170</td>\n",
       "      <td>Woman</td>\n",
       "      <td>dogs, parrot, hamster</td>\n",
       "      <td>Touche Pas A Mon Poste</td>\n",
       "      <td>dogs</td>\n",
       "      <td>parrot</td>\n",
       "      <td>hamster</td>\n",
       "      <td>1.0</td>\n",
       "    </tr>\n",
       "    <tr>\n",
       "      <th>4</th>\n",
       "      <td>10000</td>\n",
       "      <td>2</td>\n",
       "      <td>4000</td>\n",
       "      <td>2</td>\n",
       "      <td>20 - 21 years old</td>\n",
       "      <td>Do not wish to answer / can't answer</td>\n",
       "      <td>Do not wish to answer / can't answer</td>\n",
       "      <td>160</td>\n",
       "      <td>Woman</td>\n",
       "      <td>dog,guinea pig,turtle</td>\n",
       "      <td>The Office</td>\n",
       "      <td>dog</td>\n",
       "      <td>guinea pig</td>\n",
       "      <td>turtle</td>\n",
       "      <td>1.0</td>\n",
       "    </tr>\n",
       "    <tr>\n",
       "      <th>5</th>\n",
       "      <td>18203</td>\n",
       "      <td>3</td>\n",
       "      <td>5000</td>\n",
       "      <td>2</td>\n",
       "      <td>20 - 21 years old</td>\n",
       "      <td>Master or PhD</td>\n",
       "      <td>Master or PhD</td>\n",
       "      <td>167</td>\n",
       "      <td>Woman</td>\n",
       "      <td>Dog, sheep, goose</td>\n",
       "      <td>the Witcher</td>\n",
       "      <td>dog</td>\n",
       "      <td>sheep</td>\n",
       "      <td>goose</td>\n",
       "      <td>1.0</td>\n",
       "    </tr>\n",
       "    <tr>\n",
       "      <th>6</th>\n",
       "      <td>100000</td>\n",
       "      <td>2</td>\n",
       "      <td>5000</td>\n",
       "      <td>5</td>\n",
       "      <td>20 - 21 years old</td>\n",
       "      <td>Licence</td>\n",
       "      <td>French baccalaureate</td>\n",
       "      <td>165</td>\n",
       "      <td>Woman</td>\n",
       "      <td>Cat, rabbit, dog</td>\n",
       "      <td>Television news</td>\n",
       "      <td>cat</td>\n",
       "      <td>rabbit</td>\n",
       "      <td>dog</td>\n",
       "      <td>1.0</td>\n",
       "    </tr>\n",
       "    <tr>\n",
       "      <th>8</th>\n",
       "      <td>8000</td>\n",
       "      <td>3</td>\n",
       "      <td>4000</td>\n",
       "      <td>3</td>\n",
       "      <td>20 - 21 years old</td>\n",
       "      <td>Master or PhD</td>\n",
       "      <td>Master or PhD</td>\n",
       "      <td>188</td>\n",
       "      <td>Man</td>\n",
       "      <td>Lion, chat, kangourou</td>\n",
       "      <td>Obx</td>\n",
       "      <td>lion</td>\n",
       "      <td>chat</td>\n",
       "      <td>kangourou</td>\n",
       "      <td>0.0</td>\n",
       "    </tr>\n",
       "    <tr>\n",
       "      <th>9</th>\n",
       "      <td>6000</td>\n",
       "      <td>3</td>\n",
       "      <td>3000</td>\n",
       "      <td>3</td>\n",
       "      <td>20 - 21 years old</td>\n",
       "      <td>Licence</td>\n",
       "      <td>Licence</td>\n",
       "      <td>161</td>\n",
       "      <td>Woman</td>\n",
       "      <td>Cat, rabbit, dog</td>\n",
       "      <td>Malcom in the middle</td>\n",
       "      <td>cat</td>\n",
       "      <td>rabbit</td>\n",
       "      <td>dog</td>\n",
       "      <td>1.0</td>\n",
       "    </tr>\n",
       "    <tr>\n",
       "      <th>10</th>\n",
       "      <td>860000</td>\n",
       "      <td>4</td>\n",
       "      <td>4000</td>\n",
       "      <td>3</td>\n",
       "      <td>20 - 21 years old</td>\n",
       "      <td>Do not wish to answer / can't answer</td>\n",
       "      <td>Licence</td>\n",
       "      <td>155</td>\n",
       "      <td>Woman</td>\n",
       "      <td>Cat</td>\n",
       "      <td>Le juste prix !</td>\n",
       "      <td>cat</td>\n",
       "      <td>None</td>\n",
       "      <td>None</td>\n",
       "      <td>1.0</td>\n",
       "    </tr>\n",
       "    <tr>\n",
       "      <th>11</th>\n",
       "      <td>17000</td>\n",
       "      <td>3</td>\n",
       "      <td>4000</td>\n",
       "      <td>0</td>\n",
       "      <td>23 - 24 years old</td>\n",
       "      <td>Master or PhD</td>\n",
       "      <td>Licence</td>\n",
       "      <td>178</td>\n",
       "      <td>Man</td>\n",
       "      <td>cat, fish, turtle</td>\n",
       "      <td>The ofice</td>\n",
       "      <td>cat</td>\n",
       "      <td>fish</td>\n",
       "      <td>turtle</td>\n",
       "      <td>0.0</td>\n",
       "    </tr>\n",
       "  </tbody>\n",
       "</table>\n",
       "</div>"
      ],
      "text/plain": [
       "      city  education  salary  siblings                age  \\\n",
       "0   105142          2    3500         6  20 - 21 years old   \n",
       "1       40          2    4000         3  18 - 19 years old   \n",
       "2     5000          2   10000         2  18 - 19 years old   \n",
       "3    24000          2    4000         2  20 - 21 years old   \n",
       "4    10000          2    4000         2  20 - 21 years old   \n",
       "5    18203          3    5000         2  20 - 21 years old   \n",
       "6   100000          2    5000         5  20 - 21 years old   \n",
       "8     8000          3    4000         3  20 - 21 years old   \n",
       "9     6000          3    3000         3  20 - 21 years old   \n",
       "10  860000          4    4000         3  20 - 21 years old   \n",
       "11   17000          3    4000         0  23 - 24 years old   \n",
       "\n",
       "                      father_s_education  \\\n",
       "0                   French baccalaureate   \n",
       "1                                Licence   \n",
       "2                          Master or PhD   \n",
       "3   Do not wish to answer / can't answer   \n",
       "4   Do not wish to answer / can't answer   \n",
       "5                          Master or PhD   \n",
       "6                                Licence   \n",
       "8                          Master or PhD   \n",
       "9                                Licence   \n",
       "10  Do not wish to answer / can't answer   \n",
       "11                         Master or PhD   \n",
       "\n",
       "                      mother_s_education  size gender  \\\n",
       "0                                Licence   165  Woman   \n",
       "1                                Licence   175  Woman   \n",
       "2                          Master or PhD   171    Man   \n",
       "3                                Licence   170  Woman   \n",
       "4   Do not wish to answer / can't answer   160  Woman   \n",
       "5                          Master or PhD   167  Woman   \n",
       "6                   French baccalaureate   165  Woman   \n",
       "8                          Master or PhD   188    Man   \n",
       "9                                Licence   161  Woman   \n",
       "10                               Licence   155  Woman   \n",
       "11                               Licence   178    Man   \n",
       "\n",
       "                             pets                 tv_show     pet1  \\\n",
       "0                BIRD, SNAKE, CAT   le meilleur patissier     bird   \n",
       "1              giraffe, cat, swan             brooklyn 99  giraffe   \n",
       "2   Cat, Komodo dragon, Crocodile                Survivor      cat   \n",
       "3           dogs, parrot, hamster  Touche Pas A Mon Poste     dogs   \n",
       "4           dog,guinea pig,turtle              The Office      dog   \n",
       "5               Dog, sheep, goose             the Witcher      dog   \n",
       "6                Cat, rabbit, dog         Television news      cat   \n",
       "8           Lion, chat, kangourou                     Obx     lion   \n",
       "9                Cat, rabbit, dog    Malcom in the middle      cat   \n",
       "10                            Cat         Le juste prix !      cat   \n",
       "11              cat, fish, turtle               The ofice      cat   \n",
       "\n",
       "              pet2        pet3  gender_num  \n",
       "0            snake         cat         1.0  \n",
       "1              cat        swan         1.0  \n",
       "2    komodo dragon   crocodile         0.0  \n",
       "3           parrot     hamster         1.0  \n",
       "4       guinea pig      turtle         1.0  \n",
       "5            sheep       goose         1.0  \n",
       "6           rabbit         dog         1.0  \n",
       "8             chat   kangourou         0.0  \n",
       "9           rabbit         dog         1.0  \n",
       "10            None        None         1.0  \n",
       "11            fish      turtle         0.0  "
      ]
     },
     "execution_count": 108,
     "metadata": {},
     "output_type": "execute_result"
    }
   ],
   "source": [
    "(df.loc[df['salary'] < (df['salary'].mean() + 3 * df['salary'].std() )])"
   ]
  },
  {
   "cell_type": "code",
   "execution_count": 112,
   "metadata": {},
   "outputs": [
    {
     "data": {
      "text/plain": [
       "0      3500\n",
       "1      4000\n",
       "2     10000\n",
       "3      4000\n",
       "4      4000\n",
       "5      5000\n",
       "6      5000\n",
       "8      4000\n",
       "9      3000\n",
       "10     4000\n",
       "11     4000\n",
       "Name: salary, dtype: int64"
      ]
     },
     "execution_count": 112,
     "metadata": {},
     "output_type": "execute_result"
    }
   ],
   "source": [
    "(df['salary'].loc[df['salary'].between(\n",
    "    df['salary'].mean() - 3 * df['salary'].std(), \n",
    "    df['salary'].mean() + 3 * df['salary'].std())])"
   ]
  },
  {
   "cell_type": "code",
   "execution_count": 115,
   "metadata": {},
   "outputs": [],
   "source": [
    "def remove_outliers(s):\n",
    "    return s.loc[s.between(s.mean() - 3 * s.std(), s.mean() + 3 * s.std())] "
   ]
  },
  {
   "cell_type": "code",
   "execution_count": 116,
   "metadata": {},
   "outputs": [
    {
     "data": {
      "text/plain": [
       "0     105142\n",
       "1         40\n",
       "2       5000\n",
       "3      24000\n",
       "4      10000\n",
       "5      18203\n",
       "6     100000\n",
       "7     171057\n",
       "8       8000\n",
       "9       6000\n",
       "11     17000\n",
       "Name: city, dtype: int64"
      ]
     },
     "execution_count": 116,
     "metadata": {},
     "output_type": "execute_result"
    }
   ],
   "source": [
    "remove_outliers(df['city'])"
   ]
  },
  {
   "cell_type": "code",
   "execution_count": 117,
   "metadata": {},
   "outputs": [
    {
     "data": {
      "text/plain": [
       "0     1.0\n",
       "1     1.0\n",
       "2     0.0\n",
       "3     1.0\n",
       "4     1.0\n",
       "5     1.0\n",
       "6     1.0\n",
       "8     0.0\n",
       "9     1.0\n",
       "10    1.0\n",
       "11    0.0\n",
       "Name: gender_num, dtype: float64"
      ]
     },
     "execution_count": 117,
     "metadata": {},
     "output_type": "execute_result"
    }
   ],
   "source": [
    "remove_outliers(df['gender_num'])"
   ]
  },
  {
   "cell_type": "code",
   "execution_count": 118,
   "metadata": {},
   "outputs": [
    {
     "data": {
      "text/html": [
       "<div>\n",
       "<style scoped>\n",
       "    .dataframe tbody tr th:only-of-type {\n",
       "        vertical-align: middle;\n",
       "    }\n",
       "\n",
       "    .dataframe tbody tr th {\n",
       "        vertical-align: top;\n",
       "    }\n",
       "\n",
       "    .dataframe thead th {\n",
       "        text-align: right;\n",
       "    }\n",
       "</style>\n",
       "<table border=\"1\" class=\"dataframe\">\n",
       "  <thead>\n",
       "    <tr style=\"text-align: right;\">\n",
       "      <th></th>\n",
       "      <th>city</th>\n",
       "      <th>education</th>\n",
       "      <th>salary</th>\n",
       "      <th>siblings</th>\n",
       "      <th>size</th>\n",
       "      <th>gender_num</th>\n",
       "    </tr>\n",
       "  </thead>\n",
       "  <tbody>\n",
       "    <tr>\n",
       "      <th>0</th>\n",
       "      <td>105142</td>\n",
       "      <td>2</td>\n",
       "      <td>3500</td>\n",
       "      <td>6</td>\n",
       "      <td>165</td>\n",
       "      <td>1.0</td>\n",
       "    </tr>\n",
       "    <tr>\n",
       "      <th>1</th>\n",
       "      <td>40</td>\n",
       "      <td>2</td>\n",
       "      <td>4000</td>\n",
       "      <td>3</td>\n",
       "      <td>175</td>\n",
       "      <td>1.0</td>\n",
       "    </tr>\n",
       "    <tr>\n",
       "      <th>2</th>\n",
       "      <td>5000</td>\n",
       "      <td>2</td>\n",
       "      <td>10000</td>\n",
       "      <td>2</td>\n",
       "      <td>171</td>\n",
       "      <td>0.0</td>\n",
       "    </tr>\n",
       "    <tr>\n",
       "      <th>3</th>\n",
       "      <td>24000</td>\n",
       "      <td>2</td>\n",
       "      <td>4000</td>\n",
       "      <td>2</td>\n",
       "      <td>170</td>\n",
       "      <td>1.0</td>\n",
       "    </tr>\n",
       "    <tr>\n",
       "      <th>4</th>\n",
       "      <td>10000</td>\n",
       "      <td>2</td>\n",
       "      <td>4000</td>\n",
       "      <td>2</td>\n",
       "      <td>160</td>\n",
       "      <td>1.0</td>\n",
       "    </tr>\n",
       "    <tr>\n",
       "      <th>5</th>\n",
       "      <td>18203</td>\n",
       "      <td>3</td>\n",
       "      <td>5000</td>\n",
       "      <td>2</td>\n",
       "      <td>167</td>\n",
       "      <td>1.0</td>\n",
       "    </tr>\n",
       "    <tr>\n",
       "      <th>6</th>\n",
       "      <td>100000</td>\n",
       "      <td>2</td>\n",
       "      <td>5000</td>\n",
       "      <td>5</td>\n",
       "      <td>165</td>\n",
       "      <td>1.0</td>\n",
       "    </tr>\n",
       "    <tr>\n",
       "      <th>7</th>\n",
       "      <td>171057</td>\n",
       "      <td>2</td>\n",
       "      <td>50000000</td>\n",
       "      <td>4</td>\n",
       "      <td>160</td>\n",
       "      <td>NaN</td>\n",
       "    </tr>\n",
       "    <tr>\n",
       "      <th>8</th>\n",
       "      <td>8000</td>\n",
       "      <td>3</td>\n",
       "      <td>4000</td>\n",
       "      <td>3</td>\n",
       "      <td>188</td>\n",
       "      <td>0.0</td>\n",
       "    </tr>\n",
       "    <tr>\n",
       "      <th>9</th>\n",
       "      <td>6000</td>\n",
       "      <td>3</td>\n",
       "      <td>3000</td>\n",
       "      <td>3</td>\n",
       "      <td>161</td>\n",
       "      <td>1.0</td>\n",
       "    </tr>\n",
       "    <tr>\n",
       "      <th>10</th>\n",
       "      <td>860000</td>\n",
       "      <td>4</td>\n",
       "      <td>4000</td>\n",
       "      <td>3</td>\n",
       "      <td>155</td>\n",
       "      <td>1.0</td>\n",
       "    </tr>\n",
       "    <tr>\n",
       "      <th>11</th>\n",
       "      <td>17000</td>\n",
       "      <td>3</td>\n",
       "      <td>4000</td>\n",
       "      <td>0</td>\n",
       "      <td>178</td>\n",
       "      <td>0.0</td>\n",
       "    </tr>\n",
       "  </tbody>\n",
       "</table>\n",
       "</div>"
      ],
      "text/plain": [
       "      city  education    salary  siblings  size  gender_num\n",
       "0   105142          2      3500         6   165         1.0\n",
       "1       40          2      4000         3   175         1.0\n",
       "2     5000          2     10000         2   171         0.0\n",
       "3    24000          2      4000         2   170         1.0\n",
       "4    10000          2      4000         2   160         1.0\n",
       "5    18203          3      5000         2   167         1.0\n",
       "6   100000          2      5000         5   165         1.0\n",
       "7   171057          2  50000000         4   160         NaN\n",
       "8     8000          3      4000         3   188         0.0\n",
       "9     6000          3      3000         3   161         1.0\n",
       "10  860000          4      4000         3   155         1.0\n",
       "11   17000          3      4000         0   178         0.0"
      ]
     },
     "execution_count": 118,
     "metadata": {},
     "output_type": "execute_result"
    }
   ],
   "source": [
    "df.select_dtypes(include='number')"
   ]
  },
  {
   "cell_type": "code",
   "execution_count": 119,
   "metadata": {},
   "outputs": [
    {
     "name": "stdout",
     "output_type": "stream",
     "text": [
      "city\n",
      "education\n",
      "salary\n",
      "siblings\n",
      "size\n",
      "gender_num\n"
     ]
    }
   ],
   "source": [
    "for i in df.select_dtypes(include='number'): print(i)"
   ]
  },
  {
   "cell_type": "code",
   "execution_count": 120,
   "metadata": {},
   "outputs": [
    {
     "data": {
      "text/plain": [
       "[1, 1, 4, 27]"
      ]
     },
     "execution_count": 120,
     "metadata": {},
     "output_type": "execute_result"
    }
   ],
   "source": [
    "suite = [0, 1, 2 ,3] #rappel\n",
    "[el ** el for el in suite]"
   ]
  },
  {
   "cell_type": "code",
   "execution_count": 121,
   "metadata": {},
   "outputs": [
    {
     "data": {
      "text/plain": [
       "[0     105142\n",
       " 1         40\n",
       " 2       5000\n",
       " 3      24000\n",
       " 4      10000\n",
       " 5      18203\n",
       " 6     100000\n",
       " 7     171057\n",
       " 8       8000\n",
       " 9       6000\n",
       " 10    860000\n",
       " 11     17000\n",
       " Name: city, dtype: int64,\n",
       " 0     2\n",
       " 1     2\n",
       " 2     2\n",
       " 3     2\n",
       " 4     2\n",
       " 5     3\n",
       " 6     2\n",
       " 7     2\n",
       " 8     3\n",
       " 9     3\n",
       " 10    4\n",
       " 11    3\n",
       " Name: education, dtype: int64,\n",
       " 0         3500\n",
       " 1         4000\n",
       " 2        10000\n",
       " 3         4000\n",
       " 4         4000\n",
       " 5         5000\n",
       " 6         5000\n",
       " 7     50000000\n",
       " 8         4000\n",
       " 9         3000\n",
       " 10        4000\n",
       " 11        4000\n",
       " Name: salary, dtype: int64,\n",
       " 0     6\n",
       " 1     3\n",
       " 2     2\n",
       " 3     2\n",
       " 4     2\n",
       " 5     2\n",
       " 6     5\n",
       " 7     4\n",
       " 8     3\n",
       " 9     3\n",
       " 10    3\n",
       " 11    0\n",
       " Name: siblings, dtype: int64,\n",
       " 0     165\n",
       " 1     175\n",
       " 2     171\n",
       " 3     170\n",
       " 4     160\n",
       " 5     167\n",
       " 6     165\n",
       " 7     160\n",
       " 8     188\n",
       " 9     161\n",
       " 10    155\n",
       " 11    178\n",
       " Name: size, dtype: int64,\n",
       " 0     1.0\n",
       " 1     1.0\n",
       " 2     0.0\n",
       " 3     1.0\n",
       " 4     1.0\n",
       " 5     1.0\n",
       " 6     1.0\n",
       " 7     NaN\n",
       " 8     0.0\n",
       " 9     1.0\n",
       " 10    1.0\n",
       " 11    0.0\n",
       " Name: gender_num, dtype: float64]"
      ]
     },
     "execution_count": 121,
     "metadata": {},
     "output_type": "execute_result"
    }
   ],
   "source": [
    "[df[s] for s in df.select_dtypes(include='number')]"
   ]
  },
  {
   "cell_type": "code",
   "execution_count": 123,
   "metadata": {},
   "outputs": [
    {
     "data": {
      "text/plain": [
       "[0     105142\n",
       " 1         40\n",
       " 2       5000\n",
       " 3      24000\n",
       " 4      10000\n",
       " 5      18203\n",
       " 6     100000\n",
       " 7     171057\n",
       " 8       8000\n",
       " 9       6000\n",
       " 11     17000\n",
       " Name: city, dtype: int64,\n",
       " 0     2\n",
       " 1     2\n",
       " 2     2\n",
       " 3     2\n",
       " 4     2\n",
       " 5     3\n",
       " 6     2\n",
       " 7     2\n",
       " 8     3\n",
       " 9     3\n",
       " 10    4\n",
       " 11    3\n",
       " Name: education, dtype: int64,\n",
       " 0      3500\n",
       " 1      4000\n",
       " 2     10000\n",
       " 3      4000\n",
       " 4      4000\n",
       " 5      5000\n",
       " 6      5000\n",
       " 8      4000\n",
       " 9      3000\n",
       " 10     4000\n",
       " 11     4000\n",
       " Name: salary, dtype: int64,\n",
       " 0     6\n",
       " 1     3\n",
       " 2     2\n",
       " 3     2\n",
       " 4     2\n",
       " 5     2\n",
       " 6     5\n",
       " 7     4\n",
       " 8     3\n",
       " 9     3\n",
       " 10    3\n",
       " 11    0\n",
       " Name: siblings, dtype: int64,\n",
       " 0     165\n",
       " 1     175\n",
       " 2     171\n",
       " 3     170\n",
       " 4     160\n",
       " 5     167\n",
       " 6     165\n",
       " 7     160\n",
       " 8     188\n",
       " 9     161\n",
       " 10    155\n",
       " 11    178\n",
       " Name: size, dtype: int64,\n",
       " 0     1.0\n",
       " 1     1.0\n",
       " 2     0.0\n",
       " 3     1.0\n",
       " 4     1.0\n",
       " 5     1.0\n",
       " 6     1.0\n",
       " 8     0.0\n",
       " 9     1.0\n",
       " 10    1.0\n",
       " 11    0.0\n",
       " Name: gender_num, dtype: float64]"
      ]
     },
     "execution_count": 123,
     "metadata": {},
     "output_type": "execute_result"
    }
   ],
   "source": [
    "([remove_outliers(df[s]) for s in df.select_dtypes(include='number')])"
   ]
  },
  {
   "cell_type": "code",
   "execution_count": 124,
   "metadata": {},
   "outputs": [],
   "source": [
    "clean_num_series = ([remove_outliers(df[s]) for s in df.select_dtypes(include='number')])"
   ]
  },
  {
   "cell_type": "code",
   "execution_count": 128,
   "metadata": {},
   "outputs": [],
   "source": [
    "num_df = pd.concat(clean_num_series, axis = 1)"
   ]
  },
  {
   "cell_type": "code",
   "execution_count": 129,
   "metadata": {
    "scrolled": true
   },
   "outputs": [
    {
     "data": {
      "text/html": [
       "<div>\n",
       "<style scoped>\n",
       "    .dataframe tbody tr th:only-of-type {\n",
       "        vertical-align: middle;\n",
       "    }\n",
       "\n",
       "    .dataframe tbody tr th {\n",
       "        vertical-align: top;\n",
       "    }\n",
       "\n",
       "    .dataframe thead th {\n",
       "        text-align: right;\n",
       "    }\n",
       "</style>\n",
       "<table border=\"1\" class=\"dataframe\">\n",
       "  <thead>\n",
       "    <tr style=\"text-align: right;\">\n",
       "      <th></th>\n",
       "      <th>city</th>\n",
       "      <th>education</th>\n",
       "      <th>salary</th>\n",
       "      <th>siblings</th>\n",
       "      <th>size</th>\n",
       "      <th>gender_num</th>\n",
       "    </tr>\n",
       "  </thead>\n",
       "  <tbody>\n",
       "    <tr>\n",
       "      <th>0</th>\n",
       "      <td>105142.0</td>\n",
       "      <td>2</td>\n",
       "      <td>3500.0</td>\n",
       "      <td>6</td>\n",
       "      <td>165</td>\n",
       "      <td>1.0</td>\n",
       "    </tr>\n",
       "  </tbody>\n",
       "</table>\n",
       "</div>"
      ],
      "text/plain": [
       "       city  education  salary  siblings  size  gender_num\n",
       "0  105142.0          2  3500.0         6   165         1.0"
      ]
     },
     "execution_count": 129,
     "metadata": {},
     "output_type": "execute_result"
    }
   ],
   "source": [
    "num_df.head(1)"
   ]
  },
  {
   "cell_type": "code",
   "execution_count": 130,
   "metadata": {
    "scrolled": true
   },
   "outputs": [
    {
     "data": {
      "text/html": [
       "<div>\n",
       "<style scoped>\n",
       "    .dataframe tbody tr th:only-of-type {\n",
       "        vertical-align: middle;\n",
       "    }\n",
       "\n",
       "    .dataframe tbody tr th {\n",
       "        vertical-align: top;\n",
       "    }\n",
       "\n",
       "    .dataframe thead th {\n",
       "        text-align: right;\n",
       "    }\n",
       "</style>\n",
       "<table border=\"1\" class=\"dataframe\">\n",
       "  <thead>\n",
       "    <tr style=\"text-align: right;\">\n",
       "      <th></th>\n",
       "      <th>city</th>\n",
       "      <th>education</th>\n",
       "      <th>salary</th>\n",
       "      <th>siblings</th>\n",
       "      <th>size</th>\n",
       "      <th>gender_num</th>\n",
       "    </tr>\n",
       "  </thead>\n",
       "  <tbody>\n",
       "    <tr>\n",
       "      <th>0</th>\n",
       "      <td>105142.0</td>\n",
       "      <td>2</td>\n",
       "      <td>3500.0</td>\n",
       "      <td>6</td>\n",
       "      <td>165</td>\n",
       "      <td>1.0</td>\n",
       "    </tr>\n",
       "    <tr>\n",
       "      <th>1</th>\n",
       "      <td>40.0</td>\n",
       "      <td>2</td>\n",
       "      <td>4000.0</td>\n",
       "      <td>3</td>\n",
       "      <td>175</td>\n",
       "      <td>1.0</td>\n",
       "    </tr>\n",
       "    <tr>\n",
       "      <th>2</th>\n",
       "      <td>5000.0</td>\n",
       "      <td>2</td>\n",
       "      <td>10000.0</td>\n",
       "      <td>2</td>\n",
       "      <td>171</td>\n",
       "      <td>0.0</td>\n",
       "    </tr>\n",
       "    <tr>\n",
       "      <th>3</th>\n",
       "      <td>24000.0</td>\n",
       "      <td>2</td>\n",
       "      <td>4000.0</td>\n",
       "      <td>2</td>\n",
       "      <td>170</td>\n",
       "      <td>1.0</td>\n",
       "    </tr>\n",
       "    <tr>\n",
       "      <th>4</th>\n",
       "      <td>10000.0</td>\n",
       "      <td>2</td>\n",
       "      <td>4000.0</td>\n",
       "      <td>2</td>\n",
       "      <td>160</td>\n",
       "      <td>1.0</td>\n",
       "    </tr>\n",
       "    <tr>\n",
       "      <th>5</th>\n",
       "      <td>18203.0</td>\n",
       "      <td>3</td>\n",
       "      <td>5000.0</td>\n",
       "      <td>2</td>\n",
       "      <td>167</td>\n",
       "      <td>1.0</td>\n",
       "    </tr>\n",
       "    <tr>\n",
       "      <th>6</th>\n",
       "      <td>100000.0</td>\n",
       "      <td>2</td>\n",
       "      <td>5000.0</td>\n",
       "      <td>5</td>\n",
       "      <td>165</td>\n",
       "      <td>1.0</td>\n",
       "    </tr>\n",
       "    <tr>\n",
       "      <th>7</th>\n",
       "      <td>171057.0</td>\n",
       "      <td>2</td>\n",
       "      <td>NaN</td>\n",
       "      <td>4</td>\n",
       "      <td>160</td>\n",
       "      <td>NaN</td>\n",
       "    </tr>\n",
       "    <tr>\n",
       "      <th>8</th>\n",
       "      <td>8000.0</td>\n",
       "      <td>3</td>\n",
       "      <td>4000.0</td>\n",
       "      <td>3</td>\n",
       "      <td>188</td>\n",
       "      <td>0.0</td>\n",
       "    </tr>\n",
       "    <tr>\n",
       "      <th>9</th>\n",
       "      <td>6000.0</td>\n",
       "      <td>3</td>\n",
       "      <td>3000.0</td>\n",
       "      <td>3</td>\n",
       "      <td>161</td>\n",
       "      <td>1.0</td>\n",
       "    </tr>\n",
       "    <tr>\n",
       "      <th>10</th>\n",
       "      <td>NaN</td>\n",
       "      <td>4</td>\n",
       "      <td>4000.0</td>\n",
       "      <td>3</td>\n",
       "      <td>155</td>\n",
       "      <td>1.0</td>\n",
       "    </tr>\n",
       "    <tr>\n",
       "      <th>11</th>\n",
       "      <td>17000.0</td>\n",
       "      <td>3</td>\n",
       "      <td>4000.0</td>\n",
       "      <td>0</td>\n",
       "      <td>178</td>\n",
       "      <td>0.0</td>\n",
       "    </tr>\n",
       "  </tbody>\n",
       "</table>\n",
       "</div>"
      ],
      "text/plain": [
       "        city  education   salary  siblings  size  gender_num\n",
       "0   105142.0          2   3500.0         6   165         1.0\n",
       "1       40.0          2   4000.0         3   175         1.0\n",
       "2     5000.0          2  10000.0         2   171         0.0\n",
       "3    24000.0          2   4000.0         2   170         1.0\n",
       "4    10000.0          2   4000.0         2   160         1.0\n",
       "5    18203.0          3   5000.0         2   167         1.0\n",
       "6   100000.0          2   5000.0         5   165         1.0\n",
       "7   171057.0          2      NaN         4   160         NaN\n",
       "8     8000.0          3   4000.0         3   188         0.0\n",
       "9     6000.0          3   3000.0         3   161         1.0\n",
       "10       NaN          4   4000.0         3   155         1.0\n",
       "11   17000.0          3   4000.0         0   178         0.0"
      ]
     },
     "execution_count": 130,
     "metadata": {},
     "output_type": "execute_result"
    }
   ],
   "source": [
    "num_df"
   ]
  },
  {
   "cell_type": "code",
   "execution_count": 132,
   "metadata": {},
   "outputs": [
    {
     "data": {
      "text/html": [
       "<div>\n",
       "<style scoped>\n",
       "    .dataframe tbody tr th:only-of-type {\n",
       "        vertical-align: middle;\n",
       "    }\n",
       "\n",
       "    .dataframe tbody tr th {\n",
       "        vertical-align: top;\n",
       "    }\n",
       "\n",
       "    .dataframe thead th {\n",
       "        text-align: right;\n",
       "    }\n",
       "</style>\n",
       "<table border=\"1\" class=\"dataframe\">\n",
       "  <thead>\n",
       "    <tr style=\"text-align: right;\">\n",
       "      <th></th>\n",
       "      <th>city</th>\n",
       "      <th>education</th>\n",
       "      <th>salary</th>\n",
       "      <th>siblings</th>\n",
       "      <th>size</th>\n",
       "      <th>gender_num</th>\n",
       "    </tr>\n",
       "  </thead>\n",
       "  <tbody>\n",
       "    <tr>\n",
       "      <th>0</th>\n",
       "      <td>105142.0</td>\n",
       "      <td>2</td>\n",
       "      <td>3500.0</td>\n",
       "      <td>6</td>\n",
       "      <td>165</td>\n",
       "      <td>1.0</td>\n",
       "    </tr>\n",
       "    <tr>\n",
       "      <th>1</th>\n",
       "      <td>40.0</td>\n",
       "      <td>2</td>\n",
       "      <td>4000.0</td>\n",
       "      <td>3</td>\n",
       "      <td>175</td>\n",
       "      <td>1.0</td>\n",
       "    </tr>\n",
       "    <tr>\n",
       "      <th>2</th>\n",
       "      <td>5000.0</td>\n",
       "      <td>2</td>\n",
       "      <td>10000.0</td>\n",
       "      <td>2</td>\n",
       "      <td>171</td>\n",
       "      <td>0.0</td>\n",
       "    </tr>\n",
       "    <tr>\n",
       "      <th>3</th>\n",
       "      <td>24000.0</td>\n",
       "      <td>2</td>\n",
       "      <td>4000.0</td>\n",
       "      <td>2</td>\n",
       "      <td>170</td>\n",
       "      <td>1.0</td>\n",
       "    </tr>\n",
       "    <tr>\n",
       "      <th>4</th>\n",
       "      <td>10000.0</td>\n",
       "      <td>2</td>\n",
       "      <td>4000.0</td>\n",
       "      <td>2</td>\n",
       "      <td>160</td>\n",
       "      <td>1.0</td>\n",
       "    </tr>\n",
       "    <tr>\n",
       "      <th>5</th>\n",
       "      <td>18203.0</td>\n",
       "      <td>3</td>\n",
       "      <td>5000.0</td>\n",
       "      <td>2</td>\n",
       "      <td>167</td>\n",
       "      <td>1.0</td>\n",
       "    </tr>\n",
       "    <tr>\n",
       "      <th>6</th>\n",
       "      <td>100000.0</td>\n",
       "      <td>2</td>\n",
       "      <td>5000.0</td>\n",
       "      <td>5</td>\n",
       "      <td>165</td>\n",
       "      <td>1.0</td>\n",
       "    </tr>\n",
       "    <tr>\n",
       "      <th>7</th>\n",
       "      <td>171057.0</td>\n",
       "      <td>2</td>\n",
       "      <td>1.0</td>\n",
       "      <td>4</td>\n",
       "      <td>160</td>\n",
       "      <td>1.0</td>\n",
       "    </tr>\n",
       "    <tr>\n",
       "      <th>8</th>\n",
       "      <td>8000.0</td>\n",
       "      <td>3</td>\n",
       "      <td>4000.0</td>\n",
       "      <td>3</td>\n",
       "      <td>188</td>\n",
       "      <td>0.0</td>\n",
       "    </tr>\n",
       "    <tr>\n",
       "      <th>9</th>\n",
       "      <td>6000.0</td>\n",
       "      <td>3</td>\n",
       "      <td>3000.0</td>\n",
       "      <td>3</td>\n",
       "      <td>161</td>\n",
       "      <td>1.0</td>\n",
       "    </tr>\n",
       "    <tr>\n",
       "      <th>10</th>\n",
       "      <td>1.0</td>\n",
       "      <td>4</td>\n",
       "      <td>4000.0</td>\n",
       "      <td>3</td>\n",
       "      <td>155</td>\n",
       "      <td>1.0</td>\n",
       "    </tr>\n",
       "    <tr>\n",
       "      <th>11</th>\n",
       "      <td>17000.0</td>\n",
       "      <td>3</td>\n",
       "      <td>4000.0</td>\n",
       "      <td>0</td>\n",
       "      <td>178</td>\n",
       "      <td>0.0</td>\n",
       "    </tr>\n",
       "  </tbody>\n",
       "</table>\n",
       "</div>"
      ],
      "text/plain": [
       "        city  education   salary  siblings  size  gender_num\n",
       "0   105142.0          2   3500.0         6   165         1.0\n",
       "1       40.0          2   4000.0         3   175         1.0\n",
       "2     5000.0          2  10000.0         2   171         0.0\n",
       "3    24000.0          2   4000.0         2   170         1.0\n",
       "4    10000.0          2   4000.0         2   160         1.0\n",
       "5    18203.0          3   5000.0         2   167         1.0\n",
       "6   100000.0          2   5000.0         5   165         1.0\n",
       "7   171057.0          2      1.0         4   160         1.0\n",
       "8     8000.0          3   4000.0         3   188         0.0\n",
       "9     6000.0          3   3000.0         3   161         1.0\n",
       "10       1.0          4   4000.0         3   155         1.0\n",
       "11   17000.0          3   4000.0         0   178         0.0"
      ]
     },
     "execution_count": 132,
     "metadata": {},
     "output_type": "execute_result"
    }
   ],
   "source": [
    "num_df.fillna(1)"
   ]
  },
  {
   "cell_type": "code",
   "execution_count": 134,
   "metadata": {},
   "outputs": [
    {
     "data": {
      "text/plain": [
       "<matplotlib.axes._subplots.AxesSubplot at 0x2056ed39310>"
      ]
     },
     "execution_count": 134,
     "metadata": {},
     "output_type": "execute_result"
    },
    {
     "data": {
      "image/png": "[encoded data removed]",
      "text/plain": [
       "<Figure size 432x288 with 1 Axes>"
      ]
     },
     "metadata": {
      "needs_background": "light"
     },
     "output_type": "display_data"
    }
   ],
   "source": [
    "num_df['size'].plot(kind='kde')"
   ]
  },
  {
   "cell_type": "code",
   "execution_count": 135,
   "metadata": {},
   "outputs": [
    {
     "data": {
      "text/plain": [
       "0.8448833301788213"
      ]
     },
     "execution_count": 135,
     "metadata": {},
     "output_type": "execute_result"
    }
   ],
   "source": [
    "num_df['size'].skew() #si inférieur à -1 ou au dela de 1 trop important pour utliser la moyenne "
   ]
  },
  {
   "cell_type": "code",
   "execution_count": 137,
   "metadata": {},
   "outputs": [
    {
     "data": {
      "text/plain": [
       "{'tomate': 25, 'courgette': 15}"
      ]
     },
     "execution_count": 137,
     "metadata": {},
     "output_type": "execute_result"
    }
   ],
   "source": [
    "# {k:v for k, v in iterable}\n",
    "d = {'tomate' : 5, 'courgette':3}\n",
    "{k:v * 5 for k, v in d.items()}"
   ]
  },
  {
   "cell_type": "code",
   "execution_count": 138,
   "metadata": {},
   "outputs": [],
   "source": [
    "#generer un dictionnaire avec les noms des colonnes en clés et comme valeur soit la moyenne \n",
    "#si le skew et compris entre -1 et 1 sinon la médianne"
   ]
  },
  {
   "cell_type": "code",
   "execution_count": 156,
   "metadata": {},
   "outputs": [
    {
     "data": {
      "text/plain": [
       "{'city': 42222.0,\n",
       " 'education': 2.5,\n",
       " 'salary': 4590.909090909091,\n",
       " 'siblings': 2.9166666666666665,\n",
       " 'size': 167.91666666666666,\n",
       " 'gender_num': 0.7272727272727273}"
      ]
     },
     "execution_count": 156,
     "metadata": {},
     "output_type": "execute_result"
    }
   ],
   "source": [
    "{col : num_df[col].mean() for col in num_df.columns}"
   ]
  },
  {
   "cell_type": "code",
   "execution_count": 163,
   "metadata": {},
   "outputs": [],
   "source": [
    "mean_or_median_d = {col : num_df[col].mean() \n",
    " if -1 <= num_df[col].skew() <=1 \n",
    " else num_df[col].median() \n",
    " for col in num_df.columns }"
   ]
  },
  {
   "cell_type": "code",
   "execution_count": 162,
   "metadata": {},
   "outputs": [],
   "source": [
    "mean_or_median_d = {col : (num_df[col].mean(), 'mean')\n",
    " if -1 <= num_df[col].skew() <=1 \n",
    " else (num_df[col].median(), 'median')\n",
    " for col in num_df.columns }"
   ]
  },
  {
   "cell_type": "code",
   "execution_count": 164,
   "metadata": {},
   "outputs": [
    {
     "data": {
      "text/html": [
       "<div>\n",
       "<style scoped>\n",
       "    .dataframe tbody tr th:only-of-type {\n",
       "        vertical-align: middle;\n",
       "    }\n",
       "\n",
       "    .dataframe tbody tr th {\n",
       "        vertical-align: top;\n",
       "    }\n",
       "\n",
       "    .dataframe thead th {\n",
       "        text-align: right;\n",
       "    }\n",
       "</style>\n",
       "<table border=\"1\" class=\"dataframe\">\n",
       "  <thead>\n",
       "    <tr style=\"text-align: right;\">\n",
       "      <th></th>\n",
       "      <th>city</th>\n",
       "      <th>education</th>\n",
       "      <th>salary</th>\n",
       "      <th>siblings</th>\n",
       "      <th>size</th>\n",
       "      <th>gender_num</th>\n",
       "    </tr>\n",
       "  </thead>\n",
       "  <tbody>\n",
       "    <tr>\n",
       "      <th>0</th>\n",
       "      <td>105142.0</td>\n",
       "      <td>2</td>\n",
       "      <td>3500.0</td>\n",
       "      <td>6</td>\n",
       "      <td>165</td>\n",
       "      <td>1.0</td>\n",
       "    </tr>\n",
       "    <tr>\n",
       "      <th>1</th>\n",
       "      <td>40.0</td>\n",
       "      <td>2</td>\n",
       "      <td>4000.0</td>\n",
       "      <td>3</td>\n",
       "      <td>175</td>\n",
       "      <td>1.0</td>\n",
       "    </tr>\n",
       "    <tr>\n",
       "      <th>2</th>\n",
       "      <td>5000.0</td>\n",
       "      <td>2</td>\n",
       "      <td>10000.0</td>\n",
       "      <td>2</td>\n",
       "      <td>171</td>\n",
       "      <td>0.0</td>\n",
       "    </tr>\n",
       "    <tr>\n",
       "      <th>3</th>\n",
       "      <td>24000.0</td>\n",
       "      <td>2</td>\n",
       "      <td>4000.0</td>\n",
       "      <td>2</td>\n",
       "      <td>170</td>\n",
       "      <td>1.0</td>\n",
       "    </tr>\n",
       "    <tr>\n",
       "      <th>4</th>\n",
       "      <td>10000.0</td>\n",
       "      <td>2</td>\n",
       "      <td>4000.0</td>\n",
       "      <td>2</td>\n",
       "      <td>160</td>\n",
       "      <td>1.0</td>\n",
       "    </tr>\n",
       "    <tr>\n",
       "      <th>5</th>\n",
       "      <td>18203.0</td>\n",
       "      <td>3</td>\n",
       "      <td>5000.0</td>\n",
       "      <td>2</td>\n",
       "      <td>167</td>\n",
       "      <td>1.0</td>\n",
       "    </tr>\n",
       "    <tr>\n",
       "      <th>6</th>\n",
       "      <td>100000.0</td>\n",
       "      <td>2</td>\n",
       "      <td>5000.0</td>\n",
       "      <td>5</td>\n",
       "      <td>165</td>\n",
       "      <td>1.0</td>\n",
       "    </tr>\n",
       "    <tr>\n",
       "      <th>7</th>\n",
       "      <td>171057.0</td>\n",
       "      <td>2</td>\n",
       "      <td>4000.0</td>\n",
       "      <td>4</td>\n",
       "      <td>160</td>\n",
       "      <td>1.0</td>\n",
       "    </tr>\n",
       "    <tr>\n",
       "      <th>8</th>\n",
       "      <td>8000.0</td>\n",
       "      <td>3</td>\n",
       "      <td>4000.0</td>\n",
       "      <td>3</td>\n",
       "      <td>188</td>\n",
       "      <td>0.0</td>\n",
       "    </tr>\n",
       "    <tr>\n",
       "      <th>9</th>\n",
       "      <td>6000.0</td>\n",
       "      <td>3</td>\n",
       "      <td>3000.0</td>\n",
       "      <td>3</td>\n",
       "      <td>161</td>\n",
       "      <td>1.0</td>\n",
       "    </tr>\n",
       "    <tr>\n",
       "      <th>10</th>\n",
       "      <td>17000.0</td>\n",
       "      <td>4</td>\n",
       "      <td>4000.0</td>\n",
       "      <td>3</td>\n",
       "      <td>155</td>\n",
       "      <td>1.0</td>\n",
       "    </tr>\n",
       "    <tr>\n",
       "      <th>11</th>\n",
       "      <td>17000.0</td>\n",
       "      <td>3</td>\n",
       "      <td>4000.0</td>\n",
       "      <td>0</td>\n",
       "      <td>178</td>\n",
       "      <td>0.0</td>\n",
       "    </tr>\n",
       "  </tbody>\n",
       "</table>\n",
       "</div>"
      ],
      "text/plain": [
       "        city  education   salary  siblings  size  gender_num\n",
       "0   105142.0          2   3500.0         6   165         1.0\n",
       "1       40.0          2   4000.0         3   175         1.0\n",
       "2     5000.0          2  10000.0         2   171         0.0\n",
       "3    24000.0          2   4000.0         2   170         1.0\n",
       "4    10000.0          2   4000.0         2   160         1.0\n",
       "5    18203.0          3   5000.0         2   167         1.0\n",
       "6   100000.0          2   5000.0         5   165         1.0\n",
       "7   171057.0          2   4000.0         4   160         1.0\n",
       "8     8000.0          3   4000.0         3   188         0.0\n",
       "9     6000.0          3   3000.0         3   161         1.0\n",
       "10   17000.0          4   4000.0         3   155         1.0\n",
       "11   17000.0          3   4000.0         0   178         0.0"
      ]
     },
     "execution_count": 164,
     "metadata": {},
     "output_type": "execute_result"
    }
   ],
   "source": [
    "num_df.fillna(mean_or_median_d)"
   ]
  },
  {
   "cell_type": "code",
   "execution_count": 165,
   "metadata": {},
   "outputs": [
    {
     "data": {
      "text/html": [
       "<div>\n",
       "<style scoped>\n",
       "    .dataframe tbody tr th:only-of-type {\n",
       "        vertical-align: middle;\n",
       "    }\n",
       "\n",
       "    .dataframe tbody tr th {\n",
       "        vertical-align: top;\n",
       "    }\n",
       "\n",
       "    .dataframe thead th {\n",
       "        text-align: right;\n",
       "    }\n",
       "</style>\n",
       "<table border=\"1\" class=\"dataframe\">\n",
       "  <thead>\n",
       "    <tr style=\"text-align: right;\">\n",
       "      <th></th>\n",
       "      <th>city</th>\n",
       "      <th>education</th>\n",
       "      <th>salary</th>\n",
       "      <th>siblings</th>\n",
       "      <th>size</th>\n",
       "      <th>gender_num</th>\n",
       "    </tr>\n",
       "  </thead>\n",
       "  <tbody>\n",
       "    <tr>\n",
       "      <th>city</th>\n",
       "      <td>1.000000</td>\n",
       "      <td>-0.418525</td>\n",
       "      <td>-0.145013</td>\n",
       "      <td>0.667357</td>\n",
       "      <td>-0.457373</td>\n",
       "      <td>0.339951</td>\n",
       "    </tr>\n",
       "    <tr>\n",
       "      <th>education</th>\n",
       "      <td>-0.418525</td>\n",
       "      <td>1.000000</td>\n",
       "      <td>-0.274037</td>\n",
       "      <td>-0.301698</td>\n",
       "      <td>-0.051412</td>\n",
       "      <td>-0.113228</td>\n",
       "    </tr>\n",
       "    <tr>\n",
       "      <th>salary</th>\n",
       "      <td>-0.145013</td>\n",
       "      <td>-0.274037</td>\n",
       "      <td>1.000000</td>\n",
       "      <td>-0.176513</td>\n",
       "      <td>0.105322</td>\n",
       "      <td>-0.480943</td>\n",
       "    </tr>\n",
       "    <tr>\n",
       "      <th>siblings</th>\n",
       "      <td>0.667357</td>\n",
       "      <td>-0.301698</td>\n",
       "      <td>-0.176513</td>\n",
       "      <td>1.000000</td>\n",
       "      <td>-0.310744</td>\n",
       "      <td>0.461906</td>\n",
       "    </tr>\n",
       "    <tr>\n",
       "      <th>size</th>\n",
       "      <td>-0.457373</td>\n",
       "      <td>-0.051412</td>\n",
       "      <td>0.105322</td>\n",
       "      <td>-0.310744</td>\n",
       "      <td>1.000000</td>\n",
       "      <td>-0.718361</td>\n",
       "    </tr>\n",
       "    <tr>\n",
       "      <th>gender_num</th>\n",
       "      <td>0.339951</td>\n",
       "      <td>-0.113228</td>\n",
       "      <td>-0.480943</td>\n",
       "      <td>0.461906</td>\n",
       "      <td>-0.718361</td>\n",
       "      <td>1.000000</td>\n",
       "    </tr>\n",
       "  </tbody>\n",
       "</table>\n",
       "</div>"
      ],
      "text/plain": [
       "                city  education    salary  siblings      size  gender_num\n",
       "city        1.000000  -0.418525 -0.145013  0.667357 -0.457373    0.339951\n",
       "education  -0.418525   1.000000 -0.274037 -0.301698 -0.051412   -0.113228\n",
       "salary     -0.145013  -0.274037  1.000000 -0.176513  0.105322   -0.480943\n",
       "siblings    0.667357  -0.301698 -0.176513  1.000000 -0.310744    0.461906\n",
       "size       -0.457373  -0.051412  0.105322 -0.310744  1.000000   -0.718361\n",
       "gender_num  0.339951  -0.113228 -0.480943  0.461906 -0.718361    1.000000"
      ]
     },
     "execution_count": 165,
     "metadata": {},
     "output_type": "execute_result"
    }
   ],
   "source": [
    "num_df.corr()"
   ]
  },
  {
   "cell_type": "code",
   "execution_count": 168,
   "metadata": {},
   "outputs": [
    {
     "data": {
      "text/plain": [
       "<matplotlib.axes._subplots.AxesSubplot at 0x20571572100>"
      ]
     },
     "execution_count": 168,
     "metadata": {},
     "output_type": "execute_result"
    },
    {
     "data": {
      "image/png": "[encoded data removed]",
      "text/plain": [
       "<Figure size 432x288 with 2 Axes>"
      ]
     },
     "metadata": {
      "needs_background": "light"
     },
     "output_type": "display_data"
    }
   ],
   "source": [
    "import seaborn as sns\n",
    "sns.heatmap(num_df.corr())"
   ]
  },
  {
   "cell_type": "code",
   "execution_count": 169,
   "metadata": {},
   "outputs": [
    {
     "data": {
      "text/plain": [
       "<matplotlib.axes._subplots.AxesSubplot at 0x205715e38b0>"
      ]
     },
     "execution_count": 169,
     "metadata": {},
     "output_type": "execute_result"
    },
    {
     "data": {
      "image/png": "[encoded data removed]",
      "text/plain": [
       "<Figure size 432x288 with 2 Axes>"
      ]
     },
     "metadata": {
      "needs_background": "light"
     },
     "output_type": "display_data"
    }
   ],
   "source": [
    "sns.heatmap(num_df.corr(), vmin = -1, vmax=1, annot=True)"
   ]
  },
  {
   "cell_type": "code",
   "execution_count": 171,
   "metadata": {},
   "outputs": [
    {
     "data": {
      "text/plain": [
       "<seaborn.axisgrid.PairGrid at 0x205715e37f0>"
      ]
     },
     "execution_count": 171,
     "metadata": {},
     "output_type": "execute_result"
    },
    {
     "data": {
      "image/png": "[encoded data removed]",
      "text/plain": [
       "<Figure size 1080x1080 with 42 Axes>"
      ]
     },
     "metadata": {
      "needs_background": "light"
     },
     "output_type": "display_data"
    }
   ],
   "source": [
    "sns.pairplot(num_df\n",
    "             ,diag_kind = 'kde'\n",
    "             ,kind = 'reg'\n",
    "             ,plot_kws={'color' : 'red'})"
   ]
  },
  {
   "cell_type": "code",
   "execution_count": 174,
   "metadata": {},
   "outputs": [
    {
     "data": {
      "text/plain": [
       "<seaborn.axisgrid.FacetGrid at 0x205744728e0>"
      ]
     },
     "execution_count": 174,
     "metadata": {},
     "output_type": "execute_result"
    },
    {
     "data": {
      "image/png": "[encoded data removed]",
      "text/plain": [
       "<Figure size 360x360 with 1 Axes>"
      ]
     },
     "metadata": {
      "needs_background": "light"
     },
     "output_type": "display_data"
    }
   ],
   "source": [
    "sns.lmplot(x='education',\n",
    "           y='salary',\n",
    "          data=num_df,\n",
    "          fit_reg=True,\n",
    "          line_kws={'color' : 'purple'})"
   ]
  },
  {
   "cell_type": "markdown",
   "metadata": {},
   "source": [
    "## Join"
   ]
  },
  {
   "cell_type": "code",
   "execution_count": 47,
   "metadata": {},
   "outputs": [],
   "source": [
    "###Importation de fichier population et ville"
   ]
  },
  {
   "cell_type": "code",
   "execution_count": null,
   "metadata": {},
   "outputs": [],
   "source": []
  },
  {
   "cell_type": "code",
   "execution_count": 55,
   "metadata": {},
   "outputs": [],
   "source": [
    "city_df = pd.read_excel ('population.xlsx' , skiprows=2)"
   ]
  },
  {
   "cell_type": "code",
   "execution_count": 56,
   "metadata": {},
   "outputs": [
    {
     "data": {
      "text/html": [
       "<div>\n",
       "<style scoped>\n",
       "    .dataframe tbody tr th:only-of-type {\n",
       "        vertical-align: middle;\n",
       "    }\n",
       "\n",
       "    .dataframe tbody tr th {\n",
       "        vertical-align: top;\n",
       "    }\n",
       "\n",
       "    .dataframe thead th {\n",
       "        text-align: right;\n",
       "    }\n",
       "</style>\n",
       "<table border=\"1\" class=\"dataframe\">\n",
       "  <thead>\n",
       "    <tr style=\"text-align: right;\">\n",
       "      <th></th>\n",
       "      <th>Nom de la commune</th>\n",
       "      <th>Population totale</th>\n",
       "      <th>Département</th>\n",
       "      <th>Région</th>\n",
       "    </tr>\n",
       "  </thead>\n",
       "  <tbody>\n",
       "    <tr>\n",
       "      <th>0</th>\n",
       "      <td>L'Abergement-Clémenciat</td>\n",
       "      <td>785</td>\n",
       "      <td>01</td>\n",
       "      <td>Auvergne-Rhône-Alpes</td>\n",
       "    </tr>\n",
       "    <tr>\n",
       "      <th>1</th>\n",
       "      <td>L'Abergement-de-Varey</td>\n",
       "      <td>244</td>\n",
       "      <td>01</td>\n",
       "      <td>Auvergne-Rhône-Alpes</td>\n",
       "    </tr>\n",
       "    <tr>\n",
       "      <th>2</th>\n",
       "      <td>Ambérieu-en-Bugey</td>\n",
       "      <td>14518</td>\n",
       "      <td>01</td>\n",
       "      <td>Auvergne-Rhône-Alpes</td>\n",
       "    </tr>\n",
       "    <tr>\n",
       "      <th>3</th>\n",
       "      <td>Ambérieux-en-Dombes</td>\n",
       "      <td>1705</td>\n",
       "      <td>01</td>\n",
       "      <td>Auvergne-Rhône-Alpes</td>\n",
       "    </tr>\n",
       "    <tr>\n",
       "      <th>4</th>\n",
       "      <td>Ambléon</td>\n",
       "      <td>116</td>\n",
       "      <td>01</td>\n",
       "      <td>Auvergne-Rhône-Alpes</td>\n",
       "    </tr>\n",
       "  </tbody>\n",
       "</table>\n",
       "</div>"
      ],
      "text/plain": [
       "         Nom de la commune  Population totale Département  \\\n",
       "0  L'Abergement-Clémenciat                785          01   \n",
       "1    L'Abergement-de-Varey                244          01   \n",
       "2        Ambérieu-en-Bugey              14518          01   \n",
       "3      Ambérieux-en-Dombes               1705          01   \n",
       "4                  Ambléon                116          01   \n",
       "\n",
       "                 Région  \n",
       "0  Auvergne-Rhône-Alpes  \n",
       "1  Auvergne-Rhône-Alpes  \n",
       "2  Auvergne-Rhône-Alpes  \n",
       "3  Auvergne-Rhône-Alpes  \n",
       "4  Auvergne-Rhône-Alpes  "
      ]
     },
     "execution_count": 56,
     "metadata": {},
     "output_type": "execute_result"
    }
   ],
   "source": [
    "city_df.head()"
   ]
  },
  {
   "cell_type": "code",
   "execution_count": 36,
   "metadata": {},
   "outputs": [
    {
     "data": {
      "text/plain": [
       "0     105142\n",
       "1         40\n",
       "2       5000\n",
       "3      24000\n",
       "4      10000\n",
       "5      18203\n",
       "6     100000\n",
       "7     171057\n",
       "8       8000\n",
       "9       6000\n",
       "10    860000\n",
       "11     17000\n",
       "Name: city, dtype: int64"
      ]
     },
     "execution_count": 36,
     "metadata": {},
     "output_type": "execute_result"
    }
   ],
   "source": [
    "df['city']"
   ]
  },
  {
   "cell_type": "code",
   "execution_count": 38,
   "metadata": {},
   "outputs": [],
   "source": [
    "df['name'] = [\"Saint-Omer\", \n",
    "              \"Montcalm\", \n",
    "              \"La Bouilladisse\",\n",
    "              \"Saint Genis Laval\",\n",
    "              \"Pélissanne\",\n",
    "              \"Bagnols-sur-Cèze\",\n",
    "              \"Avignon\",\n",
    "              \"Saint Etienne\",\n",
    "              \"Venelles\",\n",
    "              \"Clermont de l'Oise\",\n",
    "              \"Marseille\",\n",
    "              \"Digne-les-Bains\",\n",
    "              ]"
   ]
  },
  {
   "cell_type": "code",
   "execution_count": 39,
   "metadata": {},
   "outputs": [],
   "source": [
    "df['pop'] = df['city']"
   ]
  },
  {
   "cell_type": "code",
   "execution_count": 40,
   "metadata": {},
   "outputs": [],
   "source": [
    "df[\"city\"] = df[\"name\"]"
   ]
  },
  {
   "cell_type": "code",
   "execution_count": 71,
   "metadata": {},
   "outputs": [],
   "source": [
    "df['dept'] = ['62','30','13','69','13','30','84','42','13','60','13','04'] "
   ]
  },
  {
   "cell_type": "code",
   "execution_count": 41,
   "metadata": {},
   "outputs": [
    {
     "data": {
      "text/html": [
       "<div>\n",
       "<style scoped>\n",
       "    .dataframe tbody tr th:only-of-type {\n",
       "        vertical-align: middle;\n",
       "    }\n",
       "\n",
       "    .dataframe tbody tr th {\n",
       "        vertical-align: top;\n",
       "    }\n",
       "\n",
       "    .dataframe thead th {\n",
       "        text-align: right;\n",
       "    }\n",
       "</style>\n",
       "<table border=\"1\" class=\"dataframe\">\n",
       "  <thead>\n",
       "    <tr style=\"text-align: right;\">\n",
       "      <th></th>\n",
       "      <th>city</th>\n",
       "      <th>education</th>\n",
       "      <th>salary</th>\n",
       "      <th>siblings</th>\n",
       "      <th>age</th>\n",
       "      <th>father_s_education</th>\n",
       "      <th>mother_s_education</th>\n",
       "      <th>size</th>\n",
       "      <th>gender</th>\n",
       "      <th>pets</th>\n",
       "      <th>tv_show</th>\n",
       "      <th>pet1</th>\n",
       "      <th>pet2</th>\n",
       "      <th>pet3</th>\n",
       "      <th>name</th>\n",
       "      <th>pop</th>\n",
       "    </tr>\n",
       "  </thead>\n",
       "  <tbody>\n",
       "    <tr>\n",
       "      <th>0</th>\n",
       "      <td>Saint-Omer</td>\n",
       "      <td>2</td>\n",
       "      <td>3500</td>\n",
       "      <td>6</td>\n",
       "      <td>20 - 21 years old</td>\n",
       "      <td>French baccalaureate</td>\n",
       "      <td>Licence</td>\n",
       "      <td>165</td>\n",
       "      <td>Woman</td>\n",
       "      <td>BIRD, SNAKE, CAT</td>\n",
       "      <td>le meilleur patissier</td>\n",
       "      <td>bird</td>\n",
       "      <td>snake</td>\n",
       "      <td>cat</td>\n",
       "      <td>Saint-Omer</td>\n",
       "      <td>105142</td>\n",
       "    </tr>\n",
       "    <tr>\n",
       "      <th>1</th>\n",
       "      <td>Montcalm</td>\n",
       "      <td>2</td>\n",
       "      <td>4000</td>\n",
       "      <td>3</td>\n",
       "      <td>18 - 19 years old</td>\n",
       "      <td>Licence</td>\n",
       "      <td>Licence</td>\n",
       "      <td>175 cm</td>\n",
       "      <td>Woman</td>\n",
       "      <td>giraffe, cat, swan</td>\n",
       "      <td>brooklyn 99</td>\n",
       "      <td>giraffe</td>\n",
       "      <td>cat</td>\n",
       "      <td>swan</td>\n",
       "      <td>Montcalm</td>\n",
       "      <td>40</td>\n",
       "    </tr>\n",
       "    <tr>\n",
       "      <th>2</th>\n",
       "      <td>La Bouilladisse</td>\n",
       "      <td>2</td>\n",
       "      <td>10000</td>\n",
       "      <td>2</td>\n",
       "      <td>18 - 19 years old</td>\n",
       "      <td>Master or PhD</td>\n",
       "      <td>Master or PhD</td>\n",
       "      <td>171</td>\n",
       "      <td>Man</td>\n",
       "      <td>Cat, Komodo dragon, Crocodile</td>\n",
       "      <td>Survivor</td>\n",
       "      <td>cat</td>\n",
       "      <td>komodo dragon</td>\n",
       "      <td>crocodile</td>\n",
       "      <td>La Bouilladisse</td>\n",
       "      <td>5000</td>\n",
       "    </tr>\n",
       "    <tr>\n",
       "      <th>3</th>\n",
       "      <td>Saint Genis Laval</td>\n",
       "      <td>2</td>\n",
       "      <td>4000</td>\n",
       "      <td>2</td>\n",
       "      <td>20 - 21 years old</td>\n",
       "      <td>Do not wish to answer / can't answer</td>\n",
       "      <td>Licence</td>\n",
       "      <td>170</td>\n",
       "      <td>Woman</td>\n",
       "      <td>dogs, parrot, hamster</td>\n",
       "      <td>Touche Pas A Mon Poste</td>\n",
       "      <td>dogs</td>\n",
       "      <td>parrot</td>\n",
       "      <td>hamster</td>\n",
       "      <td>Saint Genis Laval</td>\n",
       "      <td>24000</td>\n",
       "    </tr>\n",
       "    <tr>\n",
       "      <th>4</th>\n",
       "      <td>Pélissanne</td>\n",
       "      <td>2</td>\n",
       "      <td>4000</td>\n",
       "      <td>2</td>\n",
       "      <td>20 - 21 years old</td>\n",
       "      <td>Do not wish to answer / can't answer</td>\n",
       "      <td>Do not wish to answer / can't answer</td>\n",
       "      <td>1m60</td>\n",
       "      <td>Woman</td>\n",
       "      <td>dog,guinea pig,turtle</td>\n",
       "      <td>The Office</td>\n",
       "      <td>dog</td>\n",
       "      <td>guinea pig</td>\n",
       "      <td>turtle</td>\n",
       "      <td>Pélissanne</td>\n",
       "      <td>10000</td>\n",
       "    </tr>\n",
       "  </tbody>\n",
       "</table>\n",
       "</div>"
      ],
      "text/plain": [
       "                city  education  salary  siblings                age  \\\n",
       "0         Saint-Omer          2    3500         6  20 - 21 years old   \n",
       "1           Montcalm          2    4000         3  18 - 19 years old   \n",
       "2    La Bouilladisse          2   10000         2  18 - 19 years old   \n",
       "3  Saint Genis Laval          2    4000         2  20 - 21 years old   \n",
       "4         Pélissanne          2    4000         2  20 - 21 years old   \n",
       "\n",
       "                     father_s_education                    mother_s_education  \\\n",
       "0                  French baccalaureate                               Licence   \n",
       "1                               Licence                               Licence   \n",
       "2                         Master or PhD                         Master or PhD   \n",
       "3  Do not wish to answer / can't answer                               Licence   \n",
       "4  Do not wish to answer / can't answer  Do not wish to answer / can't answer   \n",
       "\n",
       "     size gender                           pets                 tv_show  \\\n",
       "0     165  Woman               BIRD, SNAKE, CAT   le meilleur patissier   \n",
       "1  175 cm  Woman             giraffe, cat, swan             brooklyn 99   \n",
       "2     171    Man  Cat, Komodo dragon, Crocodile                Survivor   \n",
       "3     170  Woman          dogs, parrot, hamster  Touche Pas A Mon Poste   \n",
       "4    1m60  Woman          dog,guinea pig,turtle              The Office   \n",
       "\n",
       "      pet1            pet2        pet3               name     pop  \n",
       "0     bird           snake         cat         Saint-Omer  105142  \n",
       "1  giraffe             cat        swan           Montcalm      40  \n",
       "2      cat   komodo dragon   crocodile    La Bouilladisse    5000  \n",
       "3     dogs          parrot     hamster  Saint Genis Laval   24000  \n",
       "4      dog      guinea pig      turtle         Pélissanne   10000  "
      ]
     },
     "execution_count": 41,
     "metadata": {},
     "output_type": "execute_result"
    }
   ],
   "source": [
    "df.head()"
   ]
  },
  {
   "cell_type": "code",
   "execution_count": 76,
   "metadata": {},
   "outputs": [],
   "source": [
    "temp_df =pd.merge(df, city_df\n",
    "         , left_on= ['city','dept']\n",
    "         , right_on=['Nom de la commune' , 'Département']\n",
    "         ,how='left')"
   ]
  },
  {
   "cell_type": "code",
   "execution_count": 77,
   "metadata": {},
   "outputs": [
    {
     "data": {
      "text/plain": [
       "(12, 21)"
      ]
     },
     "execution_count": 77,
     "metadata": {},
     "output_type": "execute_result"
    }
   ],
   "source": [
    "temp_df.shape"
   ]
  },
  {
   "cell_type": "code",
   "execution_count": 74,
   "metadata": {},
   "outputs": [
    {
     "data": {
      "text/html": [
       "<div>\n",
       "<style scoped>\n",
       "    .dataframe tbody tr th:only-of-type {\n",
       "        vertical-align: middle;\n",
       "    }\n",
       "\n",
       "    .dataframe tbody tr th {\n",
       "        vertical-align: top;\n",
       "    }\n",
       "\n",
       "    .dataframe thead th {\n",
       "        text-align: right;\n",
       "    }\n",
       "</style>\n",
       "<table border=\"1\" class=\"dataframe\">\n",
       "  <thead>\n",
       "    <tr style=\"text-align: right;\">\n",
       "      <th></th>\n",
       "      <th>city</th>\n",
       "      <th>education</th>\n",
       "      <th>salary</th>\n",
       "      <th>siblings</th>\n",
       "      <th>age</th>\n",
       "      <th>father_s_education</th>\n",
       "      <th>mother_s_education</th>\n",
       "      <th>size</th>\n",
       "      <th>gender</th>\n",
       "      <th>pets</th>\n",
       "      <th>...</th>\n",
       "      <th>pet1</th>\n",
       "      <th>pet2</th>\n",
       "      <th>pet3</th>\n",
       "      <th>name</th>\n",
       "      <th>pop</th>\n",
       "      <th>dept</th>\n",
       "      <th>Nom de la commune</th>\n",
       "      <th>Population totale</th>\n",
       "      <th>Département</th>\n",
       "      <th>Région</th>\n",
       "    </tr>\n",
       "  </thead>\n",
       "  <tbody>\n",
       "    <tr>\n",
       "      <th>0</th>\n",
       "      <td>Saint-Omer</td>\n",
       "      <td>2</td>\n",
       "      <td>3500</td>\n",
       "      <td>6</td>\n",
       "      <td>20 - 21 years old</td>\n",
       "      <td>French baccalaureate</td>\n",
       "      <td>Licence</td>\n",
       "      <td>165</td>\n",
       "      <td>Woman</td>\n",
       "      <td>BIRD, SNAKE, CAT</td>\n",
       "      <td>...</td>\n",
       "      <td>bird</td>\n",
       "      <td>snake</td>\n",
       "      <td>cat</td>\n",
       "      <td>Saint-Omer</td>\n",
       "      <td>105142</td>\n",
       "      <td>62</td>\n",
       "      <td>Saint-Omer</td>\n",
       "      <td>182.0</td>\n",
       "      <td>14</td>\n",
       "      <td>Normandie</td>\n",
       "    </tr>\n",
       "  </tbody>\n",
       "</table>\n",
       "<p>1 rows × 21 columns</p>\n",
       "</div>"
      ],
      "text/plain": [
       "         city  education  salary  siblings                age  \\\n",
       "0  Saint-Omer          2    3500         6  20 - 21 years old   \n",
       "\n",
       "     father_s_education mother_s_education size gender              pets  ...  \\\n",
       "0  French baccalaureate            Licence  165  Woman  BIRD, SNAKE, CAT  ...   \n",
       "\n",
       "   pet1    pet2  pet3        name     pop  dept Nom de la commune  \\\n",
       "0  bird   snake   cat  Saint-Omer  105142    62        Saint-Omer   \n",
       "\n",
       "  Population totale  Département     Région  \n",
       "0             182.0           14  Normandie  \n",
       "\n",
       "[1 rows x 21 columns]"
      ]
     },
     "execution_count": 74,
     "metadata": {},
     "output_type": "execute_result"
    }
   ],
   "source": [
    "temp_df.head(1)"
   ]
  },
  {
   "cell_type": "code",
   "execution_count": 79,
   "metadata": {},
   "outputs": [
    {
     "data": {
      "text/plain": [
       "0     False\n",
       "1     False\n",
       "2     False\n",
       "3      True\n",
       "4     False\n",
       "5     False\n",
       "6     False\n",
       "7      True\n",
       "8     False\n",
       "9      True\n",
       "10     True\n",
       "11    False\n",
       "dtype: bool"
      ]
     },
     "execution_count": 79,
     "metadata": {},
     "output_type": "execute_result"
    }
   ],
   "source": [
    "temp_df.duplicated(subset='Population totale')"
   ]
  },
  {
   "cell_type": "code",
   "execution_count": 78,
   "metadata": {},
   "outputs": [
    {
     "data": {
      "text/html": [
       "<div>\n",
       "<style scoped>\n",
       "    .dataframe tbody tr th:only-of-type {\n",
       "        vertical-align: middle;\n",
       "    }\n",
       "\n",
       "    .dataframe tbody tr th {\n",
       "        vertical-align: top;\n",
       "    }\n",
       "\n",
       "    .dataframe thead th {\n",
       "        text-align: right;\n",
       "    }\n",
       "</style>\n",
       "<table border=\"1\" class=\"dataframe\">\n",
       "  <thead>\n",
       "    <tr style=\"text-align: right;\">\n",
       "      <th></th>\n",
       "      <th>city</th>\n",
       "      <th>education</th>\n",
       "      <th>salary</th>\n",
       "      <th>siblings</th>\n",
       "      <th>age</th>\n",
       "      <th>father_s_education</th>\n",
       "      <th>mother_s_education</th>\n",
       "      <th>size</th>\n",
       "      <th>gender</th>\n",
       "      <th>pets</th>\n",
       "      <th>...</th>\n",
       "      <th>pet1</th>\n",
       "      <th>pet2</th>\n",
       "      <th>pet3</th>\n",
       "      <th>name</th>\n",
       "      <th>pop</th>\n",
       "      <th>dept</th>\n",
       "      <th>Nom de la commune</th>\n",
       "      <th>Population totale</th>\n",
       "      <th>Département</th>\n",
       "      <th>Région</th>\n",
       "    </tr>\n",
       "  </thead>\n",
       "  <tbody>\n",
       "    <tr>\n",
       "      <th>0</th>\n",
       "      <td>Saint-Omer</td>\n",
       "      <td>2</td>\n",
       "      <td>3500</td>\n",
       "      <td>6</td>\n",
       "      <td>20 - 21 years old</td>\n",
       "      <td>French baccalaureate</td>\n",
       "      <td>Licence</td>\n",
       "      <td>165</td>\n",
       "      <td>Woman</td>\n",
       "      <td>BIRD, SNAKE, CAT</td>\n",
       "      <td>...</td>\n",
       "      <td>bird</td>\n",
       "      <td>snake</td>\n",
       "      <td>cat</td>\n",
       "      <td>Saint-Omer</td>\n",
       "      <td>105142</td>\n",
       "      <td>62</td>\n",
       "      <td>Saint-Omer</td>\n",
       "      <td>15192.0</td>\n",
       "      <td>62</td>\n",
       "      <td>Hauts-de-France</td>\n",
       "    </tr>\n",
       "    <tr>\n",
       "      <th>1</th>\n",
       "      <td>Montcalm</td>\n",
       "      <td>2</td>\n",
       "      <td>4000</td>\n",
       "      <td>3</td>\n",
       "      <td>18 - 19 years old</td>\n",
       "      <td>Licence</td>\n",
       "      <td>Licence</td>\n",
       "      <td>175 cm</td>\n",
       "      <td>Woman</td>\n",
       "      <td>giraffe, cat, swan</td>\n",
       "      <td>...</td>\n",
       "      <td>giraffe</td>\n",
       "      <td>cat</td>\n",
       "      <td>swan</td>\n",
       "      <td>Montcalm</td>\n",
       "      <td>40</td>\n",
       "      <td>30</td>\n",
       "      <td>NaN</td>\n",
       "      <td>NaN</td>\n",
       "      <td>NaN</td>\n",
       "      <td>NaN</td>\n",
       "    </tr>\n",
       "    <tr>\n",
       "      <th>2</th>\n",
       "      <td>La Bouilladisse</td>\n",
       "      <td>2</td>\n",
       "      <td>10000</td>\n",
       "      <td>2</td>\n",
       "      <td>18 - 19 years old</td>\n",
       "      <td>Master or PhD</td>\n",
       "      <td>Master or PhD</td>\n",
       "      <td>171</td>\n",
       "      <td>Man</td>\n",
       "      <td>Cat, Komodo dragon, Crocodile</td>\n",
       "      <td>...</td>\n",
       "      <td>cat</td>\n",
       "      <td>komodo dragon</td>\n",
       "      <td>crocodile</td>\n",
       "      <td>La Bouilladisse</td>\n",
       "      <td>5000</td>\n",
       "      <td>13</td>\n",
       "      <td>La Bouilladisse</td>\n",
       "      <td>6215.0</td>\n",
       "      <td>13</td>\n",
       "      <td>Provence-Alpes-Côte d'Azur</td>\n",
       "    </tr>\n",
       "    <tr>\n",
       "      <th>3</th>\n",
       "      <td>Saint Genis Laval</td>\n",
       "      <td>2</td>\n",
       "      <td>4000</td>\n",
       "      <td>2</td>\n",
       "      <td>20 - 21 years old</td>\n",
       "      <td>Do not wish to answer / can't answer</td>\n",
       "      <td>Licence</td>\n",
       "      <td>170</td>\n",
       "      <td>Woman</td>\n",
       "      <td>dogs, parrot, hamster</td>\n",
       "      <td>...</td>\n",
       "      <td>dogs</td>\n",
       "      <td>parrot</td>\n",
       "      <td>hamster</td>\n",
       "      <td>Saint Genis Laval</td>\n",
       "      <td>24000</td>\n",
       "      <td>69</td>\n",
       "      <td>NaN</td>\n",
       "      <td>NaN</td>\n",
       "      <td>NaN</td>\n",
       "      <td>NaN</td>\n",
       "    </tr>\n",
       "    <tr>\n",
       "      <th>4</th>\n",
       "      <td>Pélissanne</td>\n",
       "      <td>2</td>\n",
       "      <td>4000</td>\n",
       "      <td>2</td>\n",
       "      <td>20 - 21 years old</td>\n",
       "      <td>Do not wish to answer / can't answer</td>\n",
       "      <td>Do not wish to answer / can't answer</td>\n",
       "      <td>1m60</td>\n",
       "      <td>Woman</td>\n",
       "      <td>dog,guinea pig,turtle</td>\n",
       "      <td>...</td>\n",
       "      <td>dog</td>\n",
       "      <td>guinea pig</td>\n",
       "      <td>turtle</td>\n",
       "      <td>Pélissanne</td>\n",
       "      <td>10000</td>\n",
       "      <td>13</td>\n",
       "      <td>Pélissanne</td>\n",
       "      <td>10474.0</td>\n",
       "      <td>13</td>\n",
       "      <td>Provence-Alpes-Côte d'Azur</td>\n",
       "    </tr>\n",
       "    <tr>\n",
       "      <th>5</th>\n",
       "      <td>Bagnols-sur-Cèze</td>\n",
       "      <td>3</td>\n",
       "      <td>5000</td>\n",
       "      <td>2</td>\n",
       "      <td>20 - 21 years old</td>\n",
       "      <td>Master or PhD</td>\n",
       "      <td>Master or PhD</td>\n",
       "      <td>167</td>\n",
       "      <td>Woman</td>\n",
       "      <td>Dog, sheep, goose</td>\n",
       "      <td>...</td>\n",
       "      <td>dog</td>\n",
       "      <td>sheep</td>\n",
       "      <td>goose</td>\n",
       "      <td>Bagnols-sur-Cèze</td>\n",
       "      <td>18203</td>\n",
       "      <td>30</td>\n",
       "      <td>Bagnols-sur-Cèze</td>\n",
       "      <td>18593.0</td>\n",
       "      <td>30</td>\n",
       "      <td>Occitanie</td>\n",
       "    </tr>\n",
       "    <tr>\n",
       "      <th>6</th>\n",
       "      <td>Avignon</td>\n",
       "      <td>2</td>\n",
       "      <td>5000</td>\n",
       "      <td>5</td>\n",
       "      <td>20 - 21 years old</td>\n",
       "      <td>Licence</td>\n",
       "      <td>French baccalaureate</td>\n",
       "      <td>1,65</td>\n",
       "      <td>Woman</td>\n",
       "      <td>Cat, rabbit, dog</td>\n",
       "      <td>...</td>\n",
       "      <td>cat</td>\n",
       "      <td>rabbit</td>\n",
       "      <td>dog</td>\n",
       "      <td>Avignon</td>\n",
       "      <td>100000</td>\n",
       "      <td>84</td>\n",
       "      <td>Avignon</td>\n",
       "      <td>94200.0</td>\n",
       "      <td>84</td>\n",
       "      <td>Provence-Alpes-Côte d'Azur</td>\n",
       "    </tr>\n",
       "    <tr>\n",
       "      <th>7</th>\n",
       "      <td>Saint Etienne</td>\n",
       "      <td>2</td>\n",
       "      <td>50000000</td>\n",
       "      <td>4</td>\n",
       "      <td>22 - 23 years old</td>\n",
       "      <td>No diploma</td>\n",
       "      <td>No diploma</td>\n",
       "      <td>160</td>\n",
       "      <td>Do not wish to answer</td>\n",
       "      <td>je ne les aime pas</td>\n",
       "      <td>...</td>\n",
       "      <td>je ne les aime pas</td>\n",
       "      <td>None</td>\n",
       "      <td>None</td>\n",
       "      <td>Saint Etienne</td>\n",
       "      <td>171057</td>\n",
       "      <td>42</td>\n",
       "      <td>NaN</td>\n",
       "      <td>NaN</td>\n",
       "      <td>NaN</td>\n",
       "      <td>NaN</td>\n",
       "    </tr>\n",
       "    <tr>\n",
       "      <th>8</th>\n",
       "      <td>Venelles</td>\n",
       "      <td>3</td>\n",
       "      <td>4000</td>\n",
       "      <td>3</td>\n",
       "      <td>20 - 21 years old</td>\n",
       "      <td>Master or PhD</td>\n",
       "      <td>Master or PhD</td>\n",
       "      <td>1,88</td>\n",
       "      <td>Man</td>\n",
       "      <td>Lion, chat, kangourou</td>\n",
       "      <td>...</td>\n",
       "      <td>lion</td>\n",
       "      <td>chat</td>\n",
       "      <td>kangourou</td>\n",
       "      <td>Venelles</td>\n",
       "      <td>8000</td>\n",
       "      <td>13</td>\n",
       "      <td>Venelles</td>\n",
       "      <td>8539.0</td>\n",
       "      <td>13</td>\n",
       "      <td>Provence-Alpes-Côte d'Azur</td>\n",
       "    </tr>\n",
       "    <tr>\n",
       "      <th>9</th>\n",
       "      <td>Clermont de l'Oise</td>\n",
       "      <td>3</td>\n",
       "      <td>3000</td>\n",
       "      <td>3</td>\n",
       "      <td>20 - 21 years old</td>\n",
       "      <td>Licence</td>\n",
       "      <td>Licence</td>\n",
       "      <td>161 cm</td>\n",
       "      <td>Woman</td>\n",
       "      <td>Cat, rabbit, dog</td>\n",
       "      <td>...</td>\n",
       "      <td>cat</td>\n",
       "      <td>rabbit</td>\n",
       "      <td>dog</td>\n",
       "      <td>Clermont de l'Oise</td>\n",
       "      <td>6000</td>\n",
       "      <td>60</td>\n",
       "      <td>NaN</td>\n",
       "      <td>NaN</td>\n",
       "      <td>NaN</td>\n",
       "      <td>NaN</td>\n",
       "    </tr>\n",
       "    <tr>\n",
       "      <th>10</th>\n",
       "      <td>Marseille</td>\n",
       "      <td>4</td>\n",
       "      <td>4000</td>\n",
       "      <td>3</td>\n",
       "      <td>20 - 21 years old</td>\n",
       "      <td>Do not wish to answer / can't answer</td>\n",
       "      <td>Licence</td>\n",
       "      <td>155</td>\n",
       "      <td>Woman</td>\n",
       "      <td>Cat</td>\n",
       "      <td>...</td>\n",
       "      <td>cat</td>\n",
       "      <td>None</td>\n",
       "      <td>None</td>\n",
       "      <td>Marseille</td>\n",
       "      <td>860000</td>\n",
       "      <td>13</td>\n",
       "      <td>NaN</td>\n",
       "      <td>NaN</td>\n",
       "      <td>NaN</td>\n",
       "      <td>NaN</td>\n",
       "    </tr>\n",
       "    <tr>\n",
       "      <th>11</th>\n",
       "      <td>Digne-les-Bains</td>\n",
       "      <td>3</td>\n",
       "      <td>4000</td>\n",
       "      <td>0</td>\n",
       "      <td>23 - 24 years old</td>\n",
       "      <td>Master or PhD</td>\n",
       "      <td>Licence</td>\n",
       "      <td>1, 78 cms</td>\n",
       "      <td>Man</td>\n",
       "      <td>cat, fish, turtle</td>\n",
       "      <td>...</td>\n",
       "      <td>cat</td>\n",
       "      <td>fish</td>\n",
       "      <td>turtle</td>\n",
       "      <td>Digne-les-Bains</td>\n",
       "      <td>17000</td>\n",
       "      <td>04</td>\n",
       "      <td>Digne-les-Bains</td>\n",
       "      <td>17064.0</td>\n",
       "      <td>04</td>\n",
       "      <td>Provence-Alpes-Côte d'Azur</td>\n",
       "    </tr>\n",
       "  </tbody>\n",
       "</table>\n",
       "<p>12 rows × 21 columns</p>\n",
       "</div>"
      ],
      "text/plain": [
       "                  city  education    salary  siblings                age  \\\n",
       "0           Saint-Omer          2      3500         6  20 - 21 years old   \n",
       "1             Montcalm          2      4000         3  18 - 19 years old   \n",
       "2      La Bouilladisse          2     10000         2  18 - 19 years old   \n",
       "3    Saint Genis Laval          2      4000         2  20 - 21 years old   \n",
       "4           Pélissanne          2      4000         2  20 - 21 years old   \n",
       "5     Bagnols-sur-Cèze          3      5000         2  20 - 21 years old   \n",
       "6              Avignon          2      5000         5  20 - 21 years old   \n",
       "7        Saint Etienne          2  50000000         4  22 - 23 years old   \n",
       "8             Venelles          3      4000         3  20 - 21 years old   \n",
       "9   Clermont de l'Oise          3      3000         3  20 - 21 years old   \n",
       "10           Marseille          4      4000         3  20 - 21 years old   \n",
       "11     Digne-les-Bains          3      4000         0  23 - 24 years old   \n",
       "\n",
       "                      father_s_education  \\\n",
       "0                   French baccalaureate   \n",
       "1                                Licence   \n",
       "2                          Master or PhD   \n",
       "3   Do not wish to answer / can't answer   \n",
       "4   Do not wish to answer / can't answer   \n",
       "5                          Master or PhD   \n",
       "6                                Licence   \n",
       "7                             No diploma   \n",
       "8                          Master or PhD   \n",
       "9                                Licence   \n",
       "10  Do not wish to answer / can't answer   \n",
       "11                         Master or PhD   \n",
       "\n",
       "                      mother_s_education       size                 gender  \\\n",
       "0                                Licence        165                  Woman   \n",
       "1                                Licence     175 cm                  Woman   \n",
       "2                          Master or PhD        171                    Man   \n",
       "3                                Licence        170                  Woman   \n",
       "4   Do not wish to answer / can't answer       1m60                  Woman   \n",
       "5                          Master or PhD        167                  Woman   \n",
       "6                   French baccalaureate       1,65                  Woman   \n",
       "7                             No diploma        160  Do not wish to answer   \n",
       "8                          Master or PhD       1,88                    Man   \n",
       "9                                Licence     161 cm                  Woman   \n",
       "10                               Licence        155                  Woman   \n",
       "11                               Licence  1, 78 cms                    Man   \n",
       "\n",
       "                             pets  ...                pet1            pet2  \\\n",
       "0                BIRD, SNAKE, CAT  ...                bird           snake   \n",
       "1              giraffe, cat, swan  ...             giraffe             cat   \n",
       "2   Cat, Komodo dragon, Crocodile  ...                 cat   komodo dragon   \n",
       "3           dogs, parrot, hamster  ...                dogs          parrot   \n",
       "4           dog,guinea pig,turtle  ...                 dog      guinea pig   \n",
       "5               Dog, sheep, goose  ...                 dog           sheep   \n",
       "6                Cat, rabbit, dog  ...                 cat          rabbit   \n",
       "7              je ne les aime pas  ...  je ne les aime pas            None   \n",
       "8           Lion, chat, kangourou  ...                lion            chat   \n",
       "9                Cat, rabbit, dog  ...                 cat          rabbit   \n",
       "10                            Cat  ...                 cat            None   \n",
       "11              cat, fish, turtle  ...                 cat            fish   \n",
       "\n",
       "          pet3                name     pop  dept Nom de la commune  \\\n",
       "0          cat          Saint-Omer  105142    62        Saint-Omer   \n",
       "1         swan            Montcalm      40    30               NaN   \n",
       "2    crocodile     La Bouilladisse    5000    13   La Bouilladisse   \n",
       "3      hamster   Saint Genis Laval   24000    69               NaN   \n",
       "4       turtle          Pélissanne   10000    13        Pélissanne   \n",
       "5        goose    Bagnols-sur-Cèze   18203    30  Bagnols-sur-Cèze   \n",
       "6          dog             Avignon  100000    84           Avignon   \n",
       "7         None       Saint Etienne  171057    42               NaN   \n",
       "8    kangourou            Venelles    8000    13          Venelles   \n",
       "9          dog  Clermont de l'Oise    6000    60               NaN   \n",
       "10        None           Marseille  860000    13               NaN   \n",
       "11      turtle     Digne-les-Bains   17000    04   Digne-les-Bains   \n",
       "\n",
       "   Population totale  Département                      Région  \n",
       "0            15192.0           62             Hauts-de-France  \n",
       "1                NaN          NaN                         NaN  \n",
       "2             6215.0           13  Provence-Alpes-Côte d'Azur  \n",
       "3                NaN          NaN                         NaN  \n",
       "4            10474.0           13  Provence-Alpes-Côte d'Azur  \n",
       "5            18593.0           30                   Occitanie  \n",
       "6            94200.0           84  Provence-Alpes-Côte d'Azur  \n",
       "7                NaN          NaN                         NaN  \n",
       "8             8539.0           13  Provence-Alpes-Côte d'Azur  \n",
       "9                NaN          NaN                         NaN  \n",
       "10               NaN          NaN                         NaN  \n",
       "11           17064.0           04  Provence-Alpes-Côte d'Azur  \n",
       "\n",
       "[12 rows x 21 columns]"
      ]
     },
     "execution_count": 78,
     "metadata": {},
     "output_type": "execute_result"
    }
   ],
   "source": [
    "temp_df"
   ]
  },
  {
   "cell_type": "code",
   "execution_count": null,
   "metadata": {},
   "outputs": [],
   "source": []
  }
 ],
 "metadata": {
  "kernelspec": {
   "display_name": "Python 3",
   "language": "python",
   "name": "python3"
  },
  "language_info": {
   "codemirror_mode": {
    "name": "ipython",
    "version": 3
   },
   "file_extension": ".py",
   "mimetype": "text/x-python",
   "name": "python",
   "nbconvert_exporter": "python",
   "pygments_lexer": "ipython3",
   "version": "3.8.3"
  }
 },
 "nbformat": 4,
 "nbformat_minor": 5
}
